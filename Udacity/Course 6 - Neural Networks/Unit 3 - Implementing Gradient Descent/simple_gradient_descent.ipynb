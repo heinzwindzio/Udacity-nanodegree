{
 "cells": [
  {
   "cell_type": "markdown",
   "metadata": {},
   "source": [
    "![image](simple_gradient.png)"
   ]
  },
  {
   "cell_type": "markdown",
   "metadata": {},
   "source": [
    "So:\n",
    "\n",
    "1) calculate h (sum of (w1x1))\n",
    "2) apply sigmoid to h --> this is y_hat\n",
    "\n",
    "3) calculate the ERROR --> (y - y_hat) which is how far off the point is from the y\n",
    "\n",
    "4) apply the sigmoid prime (derivative) to h --> this is the gradient f'(h) \n",
    "5) calculate the ERROR TERM --> ERROR * gradient\n",
    "6) calculate the new weights --> LR * ERROR TERM * input"
   ]
  },
  {
   "cell_type": "code",
   "execution_count": null,
   "metadata": {},
   "outputs": [],
   "source": [
    "import numpy as np\n",
    "\n",
    "\n",
    "\n",
    "# Defining the sigmoid function for activations\n",
    "def sigmoid(x):\n",
    "    return 1 / (1 + np.exp(-x))\n",
    "\n",
    "# Derivative of the sigmoid function\n",
    "def sigmoid_prime(x):\n",
    "    return sigmoid(x) * (1 - sigmoid(x))\n",
    "\n",
    "# Input data\n",
    "x = np.array([0.1, 0.3])\n",
    "# Target\n",
    "y = 0.2\n",
    "# Input to output weights\n",
    "weights = np.array([-0.8, 0.5])\n",
    "\n",
    "# The learning rate, eta in the weight step equation\n",
    "learnrate = 0.5\n",
    "\n",
    "# the linear combination performed by the node (h in f(h) and f'(h))\n",
    "h = x[0]*weights[0] + x[1]*weights[1]\n",
    "# or h = np.dot(x, weights)\n",
    "\n",
    "# The neural network output (y-hat)\n",
    "y_hat = sigmoid(h)\n",
    "print(f'this is the y_hat: {y_hat}')\n",
    "\n",
    "# output error (y - y-hat)\n",
    "error = y - y_hat\n",
    "print(f'this is the error: {error}')\n",
    "\n",
    "\n",
    "# output gradient (f'(h))\n",
    "output_grad = sigmoid_prime(h)\n",
    "print(f'this is the output gradient: {output_grad}')\n",
    "\n",
    "# error term (lowercase delta)\n",
    "error_term = error * output_grad\n",
    "print(f'this is the error term (delta): {error_term}')\n",
    "\n",
    "# Gradient descent step \n",
    "grad_dec = [ learnrate  *error_term*  x[0],\n",
    "          learnrate  *error_term*  x[1]]\n",
    "# or del_w = learnrate  *error_term*  x\n",
    "print(f'this is the grad_dec: {grad_dec}')"
   ]
  }
 ],
 "metadata": {
  "kernelspec": {
   "display_name": "base",
   "language": "python",
   "name": "python3"
  },
  "language_info": {
   "codemirror_mode": {
    "name": "ipython",
    "version": 3
   },
   "file_extension": ".py",
   "mimetype": "text/x-python",
   "name": "python",
   "nbconvert_exporter": "python",
   "pygments_lexer": "ipython3",
   "version": "3.12.7"
  }
 },
 "nbformat": 4,
 "nbformat_minor": 2
}
