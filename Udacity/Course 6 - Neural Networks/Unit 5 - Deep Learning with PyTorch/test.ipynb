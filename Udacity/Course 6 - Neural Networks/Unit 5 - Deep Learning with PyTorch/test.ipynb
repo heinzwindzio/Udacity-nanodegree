{
 "cells": [
  {
   "cell_type": "markdown",
   "metadata": {},
   "source": [
    "This is Sunday's markdown on March 23rd"
   ]
  }
 ],
 "metadata": {
  "language_info": {
   "name": "python"
  }
 },
 "nbformat": 4,
 "nbformat_minor": 2
}
