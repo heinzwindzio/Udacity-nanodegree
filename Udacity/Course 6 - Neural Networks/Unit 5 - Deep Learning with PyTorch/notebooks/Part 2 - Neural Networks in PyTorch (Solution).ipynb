{
 "cells": [
  {
   "cell_type": "markdown",
   "metadata": {},
   "source": [
    "# Neural networks with PyTorch\n",
    "\n",
    "Deep learning networks tend to be massive with dozens or hundreds of layers, that's where the term \"deep\" comes from. You can build one of these deep networks using only weight matrices as we did in the previous notebook, but in general it's very cumbersome and difficult to implement. PyTorch has a nice module `nn` that provides a nice way to efficiently build large neural networks."
   ]
  },
  {
   "cell_type": "code",
   "execution_count": 19,
   "metadata": {
    "collapsed": true
   },
   "outputs": [],
   "source": [
    "# Import necessary packages\n",
    "\n",
    "%matplotlib inline\n",
    "%config InlineBackend.figure_format = 'retina'\n",
    "\n",
    "import numpy as np\n",
    "import torch\n",
    "\n",
    "import helper\n",
    "\n",
    "import matplotlib.pyplot as plt"
   ]
  },
  {
   "cell_type": "markdown",
   "metadata": {},
   "source": [
    "\n",
    "Now we're going to build a larger network that can solve a (formerly) difficult problem, identifying text in an image. Here we'll use the MNIST dataset which consists of greyscale handwritten digits. Each image is 28x28 pixels, you can see a sample below\n",
    "\n",
    "<img src='assets/mnist.png'>\n",
    "\n",
    "Our goal is to build a neural network that can take one of these images and predict the digit in the image.\n",
    "\n",
    "First up, we need to get our dataset. This is provided through the `torchvision` package. The code below will download the MNIST dataset, then create training and test datasets for us. Don't worry too much about the details here, you'll learn more about this later."
   ]
  },
  {
   "cell_type": "code",
   "execution_count": 20,
   "metadata": {},
   "outputs": [],
   "source": [
    "# The MNIST datasets are hosted on yann.lecun.com that has moved under CloudFlare protection\n",
    "# Run this script to enable the datasets download\n",
    "# Reference: https://github.com/pytorch/vision/issues/1938\n",
    "\n",
    "from six.moves import urllib\n",
    "opener = urllib.request.build_opener()\n",
    "opener.addheaders = [('User-agent', 'Mozilla/5.0')]\n",
    "urllib.request.install_opener(opener)"
   ]
  },
  {
   "cell_type": "code",
   "execution_count": 21,
   "metadata": {
    "collapsed": true
   },
   "outputs": [],
   "source": [
    "### Run this cell\n",
    "\n",
    "from torchvision import datasets, transforms\n",
    "\n",
    "# Define a transform to normalize the data\n",
    "transform = transforms.Compose([transforms.ToTensor(),\n",
    "                              transforms.Normalize((0.5,), (0.5,)),\n",
    "                              ])\n",
    "# Download and load the training data\n",
    "trainset = datasets.MNIST('~/.pytorch/MNIST_data/', download=True, train=True, transform=transform)\n",
    "trainloader = torch.utils.data.DataLoader(trainset, batch_size=64, shuffle=True)"
   ]
  },
  {
   "cell_type": "markdown",
   "metadata": {},
   "source": [
    "We have the training data loaded into `trainloader` and we make that an iterator with `iter(trainloader)`. Later, we'll use this to loop through the dataset for training, like\n",
    "\n",
    "```python\n",
    "for image, label in trainloader:\n",
    "    ## do things with images and labels\n",
    "```\n",
    "\n",
    "You'll notice I created the `trainloader` with a batch size of 64, and `shuffle=True`. The batch size is the number of images we get in one iteration from the data loader and pass through our network, often called a *batch*. And `shuffle=True` tells it to shuffle the dataset every time we start going through the data loader again. But here I'm just grabbing the first batch so we can check out the data. We can see below that `images` is just a tensor with size `(64, 1, 28, 28)`. So, 64 images per batch, 1 color channel, and 28x28 images."
   ]
  },
  {
   "cell_type": "code",
   "execution_count": 22,
   "metadata": {},
   "outputs": [
    {
     "name": "stdout",
     "output_type": "stream",
     "text": [
      "<class 'torch.Tensor'>\n",
      "torch.Size([64, 1, 28, 28])\n",
      "torch.Size([64])\n"
     ]
    }
   ],
   "source": [
    "dataiter = iter(trainloader)\n",
    "# images, labels = dataiter.next()\n",
    "images, labels = next(dataiter)\n",
    "print(type(images))\n",
    "print(images.shape)\n",
    "print(labels.shape)"
   ]
  },
  {
   "cell_type": "markdown",
   "metadata": {},
   "source": [
    "This is what one of the images looks like. "
   ]
  },
  {
   "cell_type": "code",
   "execution_count": 23,
   "metadata": {},
   "outputs": [
    {
     "data": {
      "image/png": "[encoded data removed]",
      "text/plain": [
       "<Figure size 640x480 with 1 Axes>"
      ]
     },
     "metadata": {
      "image/png": {
       "height": 413,
       "width": 416
      }
     },
     "output_type": "display_data"
    }
   ],
   "source": [
    "plt.imshow(images[1].numpy().squeeze(), cmap='Greys_r');"
   ]
  },
  {
   "cell_type": "markdown",
   "metadata": {},
   "source": [
    "First, let's try to build a simple network for this dataset using weight matrices and matrix multiplications. Then, we'll see how to do it using PyTorch's `nn` module which provides a much more convenient and powerful method for defining network architectures.\n",
    "\n",
    "The networks you've seen so far are called *fully-connected* or *dense* networks. Each unit in one layer is connected to each unit in the next layer. In fully-connected networks, the input to each layer must be a one-dimensional vector (which can be stacked into a 2D tensor as a batch of multiple examples). However, our images are 28x28 2D tensors, so we need to convert them into 1D vectors. Thinking about sizes, we need to convert the batch of images with shape `(64, 1, 28, 28)` to a have a shape of `(64, 784)`, 784 is 28 times 28. This is typically called *flattening*, we flattened the 2D images into 1D vectors.\n",
    "\n",
    "Previously you built a network with one output unit. Here we need 10 output units, one for each digit. We want our network to predict the digit shown in an image, so what we'll do is calculate probabilities that the image is of any one digit or class. This ends up being a discrete probability distribution over the classes (digits) that tells us the most likely class for the image. That means we need 10 output units for the 10 classes (digits). We'll see how to convert the network output into a probability distribution next.\n",
    "\n",
    "> **Exercise:** Flatten the batch of images `images`. Then build a multi-layer network with 784 input units, 256 hidden units, and 10 output units using random tensors for the weights and biases. For now, use a sigmoid activation for the hidden layer. Leave the output layer without an activation, we'll add one that gives us a probability distribution next."
   ]
  },
  {
   "cell_type": "code",
   "execution_count": 24,
   "metadata": {
    "collapsed": true
   },
   "outputs": [
    {
     "name": "stdout",
     "output_type": "stream",
     "text": [
      "tensor([[9.9285e-01, 9.6674e-01, 1.1368e-02, 9.8967e-07, 9.7343e-03, 1.1099e-06,\n",
      "         9.9999e-01, 9.9998e-01, 9.9775e-01, 3.0282e-05],\n",
      "        [1.3503e-08, 1.0000e+00, 9.9998e-01, 9.7857e-08, 9.0439e-01, 5.0976e-04,\n",
      "         1.0000e+00, 2.5079e-01, 5.2451e-04, 7.1585e-01],\n",
      "        [1.1798e-01, 9.9686e-01, 9.9999e-01, 1.9644e-09, 9.0569e-01, 1.4443e-08,\n",
      "         9.9999e-01, 3.1978e-03, 9.8890e-01, 1.1500e-01],\n",
      "        [1.8663e-02, 2.7406e-02, 9.4768e-01, 6.3408e-11, 9.9444e-01, 1.3002e-08,\n",
      "         1.0000e+00, 9.7444e-01, 8.9562e-01, 5.3590e-02],\n",
      "        [2.1180e-02, 2.7891e-01, 9.9766e-01, 8.8615e-13, 7.7297e-02, 1.4889e-02,\n",
      "         9.9949e-01, 9.5340e-01, 1.7581e-02, 9.3247e-03],\n",
      "        [2.7539e-01, 9.9095e-01, 1.0000e+00, 6.6557e-09, 9.9819e-01, 8.0488e-05,\n",
      "         9.9996e-01, 4.8861e-02, 1.0000e+00, 2.3812e-02],\n",
      "        [4.6555e-01, 7.4737e-02, 9.9998e-01, 2.5654e-09, 9.8921e-01, 2.7763e-06,\n",
      "         9.9999e-01, 9.8016e-01, 4.4355e-02, 9.4138e-05],\n",
      "        [1.9159e-01, 9.9901e-01, 9.9997e-01, 2.0831e-06, 7.1438e-01, 9.2367e-02,\n",
      "         9.9821e-01, 6.0577e-03, 9.7259e-01, 4.3265e-02],\n",
      "        [1.2621e-03, 9.9804e-01, 9.9991e-01, 1.5660e-06, 9.9978e-01, 2.5757e-08,\n",
      "         4.9949e-01, 8.5140e-03, 3.3604e-02, 2.0990e-02],\n",
      "        [9.2840e-01, 9.9989e-01, 7.1918e-01, 7.3045e-07, 9.2110e-01, 5.0102e-05,\n",
      "         9.9990e-01, 6.1006e-01, 3.1738e-01, 1.3248e-04],\n",
      "        [2.2916e-04, 9.4693e-01, 1.0000e+00, 8.4302e-08, 8.8717e-01, 3.2201e-14,\n",
      "         9.9976e-01, 2.2140e-02, 8.0972e-01, 9.9731e-01],\n",
      "        [1.0000e+00, 1.3105e-01, 1.0000e+00, 3.1337e-06, 9.9989e-01, 1.5839e-04,\n",
      "         9.9997e-01, 9.8042e-01, 5.5033e-01, 4.3330e-03],\n",
      "        [9.4812e-01, 1.1462e-03, 9.9996e-01, 2.8679e-10, 9.9913e-01, 4.2567e-07,\n",
      "         1.0000e+00, 9.8658e-03, 8.9383e-01, 8.7666e-01],\n",
      "        [8.6144e-01, 1.0000e+00, 1.0000e+00, 1.5431e-06, 9.7473e-01, 2.1920e-04,\n",
      "         9.9994e-01, 1.2997e-01, 9.6909e-01, 1.5378e-04],\n",
      "        [9.3829e-01, 9.9657e-01, 9.9997e-01, 3.9945e-10, 9.5105e-03, 5.5293e-03,\n",
      "         9.9997e-01, 1.0728e-04, 8.6818e-01, 2.4416e-01],\n",
      "        [9.9920e-01, 9.9766e-01, 9.9976e-01, 1.0735e-11, 9.9755e-01, 3.3006e-08,\n",
      "         1.0000e+00, 1.4378e-01, 9.8296e-01, 3.1954e-01],\n",
      "        [1.3811e-01, 9.9097e-01, 1.0000e+00, 8.6765e-10, 1.0000e+00, 1.0564e-07,\n",
      "         9.9994e-01, 1.1929e-02, 9.3251e-01, 8.2600e-01],\n",
      "        [9.9187e-01, 9.8134e-01, 9.4973e-01, 2.9757e-05, 9.6764e-01, 7.4183e-05,\n",
      "         9.9993e-01, 9.9999e-01, 5.2631e-02, 6.1667e-02],\n",
      "        [3.5732e-03, 9.9995e-01, 9.9997e-01, 1.5051e-09, 7.6676e-01, 1.1513e-03,\n",
      "         9.9998e-01, 5.4202e-01, 5.8613e-01, 7.5282e-02],\n",
      "        [5.3643e-03, 9.9935e-01, 1.0000e+00, 4.3421e-12, 9.3841e-01, 2.5833e-04,\n",
      "         1.0000e+00, 9.8897e-04, 9.8533e-01, 8.4794e-01],\n",
      "        [3.8774e-01, 2.5188e-02, 9.9756e-01, 2.4373e-14, 9.9998e-01, 1.4064e-08,\n",
      "         9.9982e-01, 1.1886e-01, 4.2181e-01, 1.6700e-04],\n",
      "        [9.9996e-01, 9.7874e-01, 1.0000e+00, 4.5094e-13, 9.9465e-01, 1.6645e-02,\n",
      "         9.9985e-01, 9.7542e-01, 8.0609e-01, 3.8023e-07],\n",
      "        [1.5963e-01, 9.9872e-01, 9.9999e-01, 3.5895e-08, 8.6806e-01, 2.1805e-08,\n",
      "         9.9947e-01, 7.2029e-01, 9.4771e-01, 5.0545e-04],\n",
      "        [3.9961e-02, 9.9963e-01, 1.0000e+00, 2.1235e-08, 9.9994e-01, 8.8062e-06,\n",
      "         9.9917e-01, 1.7192e-04, 9.9343e-01, 2.0742e-02],\n",
      "        [2.3441e-01, 9.3162e-01, 1.0000e+00, 1.4299e-07, 9.7824e-01, 9.1757e-05,\n",
      "         9.9999e-01, 2.5102e-03, 9.9322e-01, 5.1302e-02],\n",
      "        [9.8842e-01, 9.1418e-01, 1.0000e+00, 7.3970e-08, 9.9714e-01, 5.6108e-08,\n",
      "         9.9743e-01, 4.4334e-01, 2.9555e-01, 9.9392e-01],\n",
      "        [9.9788e-01, 1.0000e+00, 3.1165e-01, 1.5139e-06, 9.9897e-01, 3.4772e-07,\n",
      "         1.0000e+00, 9.9997e-01, 9.4230e-01, 1.7324e-01],\n",
      "        [7.6206e-01, 9.9999e-01, 8.7631e-01, 4.6224e-10, 8.2059e-01, 4.3137e-05,\n",
      "         9.9943e-01, 2.0425e-03, 4.1612e-01, 7.4025e-03],\n",
      "        [9.8092e-01, 9.9226e-01, 9.9996e-01, 2.1892e-11, 9.1493e-01, 6.4508e-04,\n",
      "         9.9997e-01, 9.9957e-01, 8.9171e-02, 1.8225e-04],\n",
      "        [2.1766e-01, 9.9457e-01, 1.0000e+00, 1.3403e-04, 9.9982e-01, 2.0351e-07,\n",
      "         9.9764e-01, 6.9821e-01, 9.9513e-01, 5.2599e-05],\n",
      "        [9.9981e-01, 9.9975e-01, 1.0000e+00, 7.0416e-08, 9.9943e-01, 1.0492e-02,\n",
      "         9.9999e-01, 2.0740e-04, 7.8563e-03, 2.9527e-07],\n",
      "        [2.1556e-01, 9.9013e-01, 9.9989e-01, 5.1400e-10, 3.3950e-02, 8.8196e-11,\n",
      "         9.9525e-01, 3.5789e-04, 3.9135e-03, 8.8570e-01],\n",
      "        [9.9825e-01, 9.9986e-01, 1.0000e+00, 1.7762e-06, 9.9570e-01, 8.0684e-03,\n",
      "         1.0000e+00, 5.6577e-04, 5.1420e-01, 8.3609e-06],\n",
      "        [9.7295e-01, 1.0000e+00, 9.9982e-01, 5.5377e-10, 9.9745e-01, 2.0946e-06,\n",
      "         9.5171e-01, 1.6724e-04, 8.6832e-01, 3.7353e-09],\n",
      "        [1.5335e-04, 9.9976e-01, 1.0000e+00, 4.5295e-08, 9.8553e-01, 2.4304e-05,\n",
      "         1.0000e+00, 4.9021e-01, 9.8256e-01, 1.5288e-04],\n",
      "        [5.0013e-06, 8.0745e-02, 9.9956e-01, 2.2406e-09, 5.7312e-01, 8.3505e-08,\n",
      "         1.0000e+00, 9.9731e-01, 9.9905e-01, 1.8111e-04],\n",
      "        [3.2707e-02, 9.9999e-01, 9.9940e-01, 1.6779e-07, 9.7998e-01, 6.7947e-08,\n",
      "         1.0000e+00, 9.9988e-01, 7.9047e-01, 2.0355e-06],\n",
      "        [9.8588e-01, 4.4835e-01, 9.9322e-01, 2.2223e-08, 9.6569e-01, 6.2950e-08,\n",
      "         9.9997e-01, 3.2634e-01, 9.9907e-01, 5.9186e-08],\n",
      "        [7.6687e-01, 9.3994e-01, 1.0000e+00, 1.2295e-06, 9.9953e-01, 5.4153e-09,\n",
      "         1.0000e+00, 1.4936e-02, 9.9707e-01, 7.3379e-01],\n",
      "        [9.8130e-01, 9.8374e-01, 1.0000e+00, 4.9323e-07, 9.9998e-01, 5.3843e-08,\n",
      "         1.0000e+00, 3.9595e-01, 2.1128e-01, 9.9948e-01],\n",
      "        [3.1168e-03, 9.9815e-01, 9.9995e-01, 8.9101e-09, 9.9322e-01, 1.8390e-10,\n",
      "         9.9973e-01, 4.4154e-01, 4.2288e-01, 2.1646e-01],\n",
      "        [3.2656e-02, 8.4104e-01, 1.6712e-02, 1.3250e-05, 9.9194e-01, 2.5185e-04,\n",
      "         9.9987e-01, 9.9994e-01, 9.9908e-01, 1.9428e-04],\n",
      "        [1.7648e-01, 9.9911e-01, 9.8351e-01, 6.2894e-11, 2.5559e-01, 1.2389e-06,\n",
      "         9.9998e-01, 9.9510e-01, 2.5920e-01, 2.4699e-04],\n",
      "        [3.3067e-04, 9.9953e-01, 1.0000e+00, 3.0884e-05, 9.9797e-01, 9.5145e-07,\n",
      "         9.9996e-01, 2.7422e-04, 1.6071e-01, 2.7638e-01],\n",
      "        [7.1884e-04, 9.9566e-01, 1.0000e+00, 1.6592e-09, 9.5031e-01, 4.3519e-11,\n",
      "         9.1735e-01, 9.0711e-03, 9.7778e-01, 7.8509e-05],\n",
      "        [8.2577e-02, 4.0650e-02, 4.8190e-01, 2.0992e-06, 9.9994e-01, 1.4087e-07,\n",
      "         9.9999e-01, 7.7647e-02, 9.2860e-01, 3.6381e-07],\n",
      "        [1.0468e-01, 8.8858e-01, 9.3027e-01, 1.5740e-06, 9.8577e-01, 4.2166e-07,\n",
      "         9.9966e-01, 9.9598e-01, 9.8052e-01, 5.8140e-06],\n",
      "        [7.0928e-01, 9.9933e-01, 9.9874e-01, 6.2837e-12, 5.9190e-02, 1.9603e-05,\n",
      "         9.9677e-01, 2.1354e-02, 9.9351e-01, 6.5392e-01],\n",
      "        [2.7892e-02, 1.3988e-01, 8.6460e-01, 8.6566e-09, 4.5058e-01, 9.7466e-05,\n",
      "         9.4402e-01, 2.0989e-04, 5.1568e-03, 4.7942e-08],\n",
      "        [4.4190e-01, 3.1488e-01, 9.9873e-01, 2.8880e-12, 9.2351e-01, 2.9210e-05,\n",
      "         9.9997e-01, 9.9950e-01, 8.7247e-01, 5.0854e-03],\n",
      "        [9.8718e-01, 9.9999e-01, 9.9859e-01, 4.6927e-09, 1.0121e-03, 1.0153e-01,\n",
      "         9.9995e-01, 9.9589e-01, 9.5942e-01, 8.0087e-02],\n",
      "        [9.3113e-01, 9.9997e-01, 9.9994e-01, 2.4703e-07, 9.8934e-01, 1.9764e-06,\n",
      "         9.9999e-01, 9.9980e-01, 9.9729e-01, 4.6388e-04],\n",
      "        [9.4266e-01, 9.9984e-01, 9.9912e-01, 1.9054e-09, 8.3903e-01, 7.2790e-04,\n",
      "         9.9985e-01, 9.3562e-01, 9.7891e-01, 6.3011e-02],\n",
      "        [1.4167e-01, 5.9164e-02, 1.0000e+00, 9.5115e-10, 9.8088e-01, 8.8333e-06,\n",
      "         9.9998e-01, 1.3835e-05, 2.2042e-01, 8.8185e-04],\n",
      "        [1.9702e-02, 9.9608e-01, 9.9981e-01, 6.9396e-11, 9.8172e-01, 2.2100e-05,\n",
      "         9.9525e-01, 6.3149e-01, 9.9747e-01, 2.4068e-02],\n",
      "        [9.9889e-01, 9.9208e-01, 1.0000e+00, 5.4190e-10, 9.9998e-01, 5.7189e-08,\n",
      "         9.9998e-01, 9.6444e-01, 7.2051e-03, 9.9921e-01],\n",
      "        [3.5623e-08, 9.8274e-01, 8.5234e-01, 6.3548e-12, 8.0014e-01, 5.4712e-06,\n",
      "         9.9996e-01, 9.5039e-01, 9.9949e-01, 1.2300e-07],\n",
      "        [1.6251e-04, 1.2503e-02, 1.0000e+00, 3.8313e-10, 8.5701e-04, 6.5480e-07,\n",
      "         1.0000e+00, 9.9891e-01, 6.7718e-01, 9.7384e-01],\n",
      "        [8.6161e-01, 9.9714e-01, 1.0000e+00, 2.4364e-11, 9.9972e-01, 2.4320e-07,\n",
      "         1.0000e+00, 9.9980e-01, 1.5488e-01, 4.2903e-03],\n",
      "        [2.9810e-01, 7.7197e-01, 9.9198e-01, 2.7550e-12, 1.7888e-02, 6.3452e-05,\n",
      "         9.9967e-01, 9.9993e-01, 8.6220e-01, 5.5008e-03],\n",
      "        [9.9747e-01, 9.7533e-01, 1.0000e+00, 1.0307e-09, 9.9908e-01, 1.3169e-06,\n",
      "         1.0000e+00, 1.9724e-02, 9.4949e-01, 9.3781e-01],\n",
      "        [9.8862e-01, 9.9995e-01, 9.9187e-01, 3.5219e-11, 9.2437e-01, 6.7446e-08,\n",
      "         1.0000e+00, 9.9992e-01, 9.9154e-01, 1.6738e-03],\n",
      "        [3.7242e-01, 9.5682e-01, 1.0000e+00, 1.3853e-08, 9.0292e-01, 1.5855e-06,\n",
      "         9.9828e-01, 2.3120e-01, 1.4230e-01, 6.3137e-03],\n",
      "        [1.6721e-02, 9.9899e-01, 1.0000e+00, 1.8579e-10, 9.9916e-01, 1.9111e-04,\n",
      "         9.9432e-01, 2.6286e-02, 8.9990e-03, 6.3919e-02]])\n"
     ]
    }
   ],
   "source": [
    "## Solution\n",
    "def activation(x):\n",
    "    return 1/(1+torch.exp(-x))\n",
    "\n",
    "# Flatten the input images\n",
    "inputs = images.view(images.shape[0], -1)\n",
    "\n",
    "# Create parameters\n",
    "w1 = torch.randn(784, 256)\n",
    "b1 = torch.randn(256)\n",
    "\n",
    "w2 = torch.randn(256, 10)\n",
    "b2 = torch.randn(10)\n",
    "\n",
    "h = activation(torch.mm(inputs, w1) + b1)\n",
    "\n",
    "out = activation(torch.mm(h, w2) + b2)\n",
    "print(out)"
   ]
  },
  {
   "cell_type": "markdown",
   "metadata": {},
   "source": [
    "Now we have 10 outputs for our network. We want to pass in an image to our network and get out a probability distribution over the classes that tells us the likely class(es) the image belongs to. Something that looks like this:\n",
    "<img src='assets/image_distribution.png' width=500px>\n",
    "\n",
    "Here we see that the probability for each class is roughly the same. This is representing an untrained network, it hasn't seen any data yet so it just returns a uniform distribution with equal probabilities for each class.\n",
    "\n",
    "To calculate this probability distribution, we often use the [**softmax** function](https://en.wikipedia.org/wiki/Softmax_function). Mathematically this looks like\n",
    "\n",
    "$$\n",
    "\\Large \\sigma(x_i) = \\cfrac{e^{x_i}}{\\sum_k^K{e^{x_k}}}\n",
    "$$\n",
    "\n",
    "What this does is squish each input $x_i$ between 0 and 1 and normalizes the values to give you a proper probability distribution where the probabilites sum up to one.\n",
    "\n",
    "> **Exercise:** Implement a function `softmax` that performs the softmax calculation and returns probability distributions for each example in the batch. Note that you'll need to pay attention to the shapes when doing this. If you have a tensor `a` with shape `(64, 10)` and a tensor `b` with shape `(64,)`, doing `a/b` will give you an error because PyTorch will try to do the division across the columns (called broadcasting) but you'll get a size mismatch. The way to think about this is for each of the 64 examples, you only want to divide by one value, the sum in the denominator. So you need `b` to have a shape of `(64, 1)`. This way PyTorch will divide the 10 values in each row of `a` by the one value in each row of `b`. Pay attention to how you take the sum as well. You'll need to define the `dim` keyword in `torch.sum`. Setting `dim=0` takes the sum across the rows while `dim=1` takes the sum across the columns."
   ]
  },
  {
   "cell_type": "code",
   "execution_count": 25,
   "metadata": {},
   "outputs": [
    {
     "name": "stdout",
     "output_type": "stream",
     "text": [
      "torch.Size([64, 10])\n",
      "tensor([1.0000, 1.0000, 1.0000, 1.0000, 1.0000, 1.0000, 1.0000, 1.0000, 1.0000,\n",
      "        1.0000, 1.0000, 1.0000, 1.0000, 1.0000, 1.0000, 1.0000, 1.0000, 1.0000,\n",
      "        1.0000, 1.0000, 1.0000, 1.0000, 1.0000, 1.0000, 1.0000, 1.0000, 1.0000,\n",
      "        1.0000, 1.0000, 1.0000, 1.0000, 1.0000, 1.0000, 1.0000, 1.0000, 1.0000,\n",
      "        1.0000, 1.0000, 1.0000, 1.0000, 1.0000, 1.0000, 1.0000, 1.0000, 1.0000,\n",
      "        1.0000, 1.0000, 1.0000, 1.0000, 1.0000, 1.0000, 1.0000, 1.0000, 1.0000,\n",
      "        1.0000, 1.0000, 1.0000, 1.0000, 1.0000, 1.0000, 1.0000, 1.0000, 1.0000,\n",
      "        1.0000])\n"
     ]
    }
   ],
   "source": [
    "## Solution\n",
    "def softmax(x):\n",
    "    return torch.exp(x)/torch.sum(torch.exp(x), dim=1).view(-1, 1)\n",
    "\n",
    "probabilities = softmax(out)\n",
    "\n",
    "# Does it have the right shape? Should be (64, 10)\n",
    "print(probabilities.shape)\n",
    "# Does it sum to 1?\n",
    "print(probabilities.sum(dim=1))"
   ]
  },
  {
   "cell_type": "markdown",
   "metadata": {},
   "source": [
    "## Building networks with PyTorch\n",
    "\n",
    "PyTorch provides a module `nn` that makes building networks much simpler. Here I'll show you how to build the same one as above with 784 inputs, 256 hidden units, 10 output units and a softmax output."
   ]
  },
  {
   "cell_type": "code",
   "execution_count": 26,
   "metadata": {
    "collapsed": true
   },
   "outputs": [],
   "source": [
    "from torch import nn"
   ]
  },
  {
   "cell_type": "code",
   "execution_count": 27,
   "metadata": {
    "collapsed": true
   },
   "outputs": [],
   "source": [
    "class Network(nn.Module):\n",
    "    def __init__(self):\n",
    "        super().__init__()\n",
    "        \n",
    "        # Inputs to hidden layer linear transformation\n",
    "        self.hidden = nn.Linear(784, 256)\n",
    "        # Output layer, 10 units - one for each digit\n",
    "        self.output = nn.Linear(256, 10)\n",
    "        \n",
    "        # Define sigmoid activation and softmax output \n",
    "        self.sigmoid = nn.Sigmoid()\n",
    "        self.softmax = nn.Softmax(dim=1)\n",
    "        \n",
    "    def forward(self, x):\n",
    "        # Pass the input tensor through each of our operations\n",
    "        x = self.hidden(x)\n",
    "        x = self.sigmoid(x)\n",
    "        x = self.output(x)\n",
    "        x = self.softmax(x)\n",
    "        \n",
    "        return x"
   ]
  },
  {
   "cell_type": "markdown",
   "metadata": {},
   "source": [
    "Let's go through this bit by bit.\n",
    "\n",
    "```python\n",
    "class Network(nn.Module):\n",
    "```\n",
    "\n",
    "Here we're inheriting from `nn.Module`. Combined with `super().__init__()` this creates a class that tracks the architecture and provides a lot of useful methods and attributes. It is mandatory to inherit from `nn.Module` when you're creating a class for your network. The name of the class itself can be anything.\n",
    "\n",
    "```python\n",
    "self.hidden = nn.Linear(784, 256)\n",
    "```\n",
    "\n",
    "This line creates a module for a linear transformation, $x\\mathbf{W} + b$, with 784 inputs and 256 outputs and assigns it to `self.hidden`. The module automatically creates the weight and bias tensors which we'll use in the `forward` method. You can access the weight and bias tensors once the network (`net`) is created with `net.hidden.weight` and `net.hidden.bias`.\n",
    "\n",
    "```python\n",
    "self.output = nn.Linear(256, 10)\n",
    "```\n",
    "\n",
    "Similarly, this creates another linear transformation with 256 inputs and 10 outputs.\n",
    "\n",
    "```python\n",
    "self.sigmoid = nn.Sigmoid()\n",
    "self.softmax = nn.Softmax(dim=1)\n",
    "```\n",
    "\n",
    "Here I defined operations for the sigmoid activation and softmax output. Setting `dim=1` in `nn.Softmax(dim=1)` calculates softmax across the columns.\n",
    "\n",
    "```python\n",
    "def forward(self, x):\n",
    "```\n",
    "\n",
    "PyTorch networks created with `nn.Module` must have a `forward` method defined. It takes in a tensor `x` and passes it through the operations you defined in the `__init__` method.\n",
    "\n",
    "```python\n",
    "x = self.hidden(x)\n",
    "x = self.sigmoid(x)\n",
    "x = self.output(x)\n",
    "x = self.softmax(x)\n",
    "```\n",
    "\n",
    "Here the input tensor `x` is passed through each operation a reassigned to `x`. We can see that the input tensor goes through the hidden layer, then a sigmoid function, then the output layer, and finally the softmax function. It doesn't matter what you name the variables here, as long as the inputs and outputs of the operations match the network architecture you want to build. The order in which you define things in the `__init__` method doesn't matter, but you'll need to sequence the operations correctly in the `forward` method.\n",
    "\n",
    "Now we can create a `Network` object."
   ]
  },
  {
   "cell_type": "code",
   "execution_count": 28,
   "metadata": {},
   "outputs": [
    {
     "data": {
      "text/plain": [
       "Network(\n",
       "  (hidden): Linear(in_features=784, out_features=256, bias=True)\n",
       "  (output): Linear(in_features=256, out_features=10, bias=True)\n",
       "  (sigmoid): Sigmoid()\n",
       "  (softmax): Softmax(dim=1)\n",
       ")"
      ]
     },
     "execution_count": 28,
     "metadata": {},
     "output_type": "execute_result"
    }
   ],
   "source": [
    "# Create the network and look at its text representation\n",
    "model = Network()\n",
    "model"
   ]
  },
  {
   "cell_type": "markdown",
   "metadata": {},
   "source": [
    "You can define the network somewhat more concisely and clearly using the `torch.nn.functional` module. This is the most common way you'll see networks defined as many operations are simple element-wise functions. We normally import this module as `F`, `import torch.nn.functional as F`."
   ]
  },
  {
   "cell_type": "code",
   "execution_count": 29,
   "metadata": {
    "collapsed": true
   },
   "outputs": [],
   "source": [
    "import torch.nn.functional as F\n",
    "\n",
    "class Network(nn.Module):\n",
    "    def __init__(self):\n",
    "        super().__init__()\n",
    "        # Inputs to hidden layer linear transformation\n",
    "        self.hidden = nn.Linear(784, 256)\n",
    "        # Output layer, 10 units - one for each digit\n",
    "        self.output = nn.Linear(256, 10)\n",
    "        \n",
    "    def forward(self, x):\n",
    "        # Hidden layer with sigmoid activation\n",
    "        x = F.sigmoid(self.hidden(x))\n",
    "        # Output layer with softmax activation\n",
    "        x = F.softmax(self.output(x), dim=1)\n",
    "        \n",
    "        return x"
   ]
  },
  {
   "cell_type": "markdown",
   "metadata": {},
   "source": [
    "### Activation functions\n",
    "\n",
    "So far we've only been looking at the sigmoid and softmax activation functions, but in general any function can be used as an activation function. The only requirement is that for a network to approximate a non-linear function, the activation functions must be non-linear. Here are a few more examples of common activation functions: Tanh (hyperbolic tangent), and ReLU (rectified linear unit).\n",
    "\n",
    "<img src=\"assets/activation.png\" width=700px>\n",
    "\n",
    "In practice, the ReLU function is used almost exclusively as the activation function for hidden layers."
   ]
  },
  {
   "cell_type": "markdown",
   "metadata": {},
   "source": [
    "### Your Turn to Build a Network\n",
    "\n",
    "<img src=\"assets/mlp_mnist.png\" width=600px>\n",
    "\n",
    "> **Exercise:** Create a network with 784 input units, a hidden layer with 128 units and a ReLU activation, then a hidden layer with 64 units and a ReLU activation, and finally an output layer with a softmax activation as shown above. You can use a ReLU activation with the `nn.ReLU` module or `F.relu` function.\n",
    "\n",
    "It's good practice to name your layers by their type of network, for instance 'fc' to represent a fully-connected layer. As you code your solution, use `fc1`, `fc2`, and `fc3` as your layer names."
   ]
  },
  {
   "cell_type": "code",
   "execution_count": 44,
   "metadata": {
    "scrolled": true
   },
   "outputs": [
    {
     "data": {
      "text/plain": [
       "Network(\n",
       "  (fc1): Linear(in_features=784, out_features=128, bias=True)\n",
       "  (fc2): Linear(in_features=128, out_features=64, bias=True)\n",
       "  (fc3): Linear(in_features=64, out_features=10, bias=True)\n",
       ")"
      ]
     },
     "execution_count": 44,
     "metadata": {},
     "output_type": "execute_result"
    }
   ],
   "source": [
    "## Solution\n",
    "\n",
    "## Your solution here\n",
    "class Network(nn.Module):\n",
    "    def __init__(self):\n",
    "        super().__init__()\n",
    "        \n",
    "        # Defining the layers, 128, 64, 10 units each\n",
    "        self.fc1 = nn.Linear(784, 128)\n",
    "        self.fc2 = nn.Linear(128, 64)\n",
    "       \n",
    "        # Output layer, 10 units - one for each digit\n",
    "        self.fc3 = nn.Linear(64, 10)\n",
    "        \n",
    "    def forward(self, x):\n",
    "        ''' Forward pass through the network, returns the output logits '''\n",
    "        \n",
    "        x = self.fc1(x)\n",
    "        x = F.relu(x)\n",
    "        x = self.fc2(x)\n",
    "        x = F.relu(x)\n",
    "        x = self.fc3(x)\n",
    "        x = F.softmax(x, dim=1)\n",
    "        \n",
    "        return x\n",
    "\n",
    "model = Network()\n",
    "model"
   ]
  },
  {
   "cell_type": "markdown",
   "metadata": {},
   "source": [
    "### Initializing weights and biases\n",
    "\n",
    "The weights and biases are automatically initialized for you, but it's possible to customize how they are initialized. The weights and biases are tensors attached to the layer you defined, you can get them with `model.fc1.weight` for instance."
   ]
  },
  {
   "cell_type": "code",
   "execution_count": 45,
   "metadata": {},
   "outputs": [
    {
     "name": "stdout",
     "output_type": "stream",
     "text": [
      "Parameter containing:\n",
      "tensor([[-0.0352,  0.0203,  0.0298,  ..., -0.0103, -0.0236,  0.0195],\n",
      "        [ 0.0333, -0.0081, -0.0017,  ...,  0.0323, -0.0354, -0.0053],\n",
      "        [ 0.0089,  0.0197, -0.0348,  ..., -0.0232,  0.0068, -0.0309],\n",
      "        ...,\n",
      "        [ 0.0319,  0.0125, -0.0091,  ..., -0.0010, -0.0020,  0.0132],\n",
      "        [-0.0089,  0.0267, -0.0093,  ..., -0.0013, -0.0202,  0.0127],\n",
      "        [-0.0039, -0.0220, -0.0281,  ...,  0.0307,  0.0285, -0.0038]],\n",
      "       requires_grad=True)\n",
      "Parameter containing:\n",
      "tensor([ 0.0131,  0.0174, -0.0195, -0.0197,  0.0092, -0.0278,  0.0070, -0.0141,\n",
      "         0.0272,  0.0182, -0.0231, -0.0051,  0.0183, -0.0172, -0.0059,  0.0189,\n",
      "         0.0127,  0.0152, -0.0167,  0.0017,  0.0132,  0.0052, -0.0169,  0.0238,\n",
      "        -0.0122,  0.0141,  0.0023, -0.0021,  0.0187,  0.0003, -0.0329, -0.0306,\n",
      "        -0.0272,  0.0166, -0.0298, -0.0248, -0.0175,  0.0180, -0.0346, -0.0254,\n",
      "         0.0320,  0.0249,  0.0312,  0.0109,  0.0088,  0.0108, -0.0142,  0.0234,\n",
      "         0.0021,  0.0275, -0.0255, -0.0049, -0.0252,  0.0013, -0.0340, -0.0286,\n",
      "        -0.0007,  0.0112,  0.0071,  0.0131, -0.0150,  0.0093, -0.0137, -0.0162,\n",
      "         0.0252, -0.0140,  0.0284,  0.0199,  0.0023,  0.0091,  0.0118,  0.0009,\n",
      "        -0.0089, -0.0157,  0.0140, -0.0142, -0.0152, -0.0308,  0.0179,  0.0152,\n",
      "        -0.0274,  0.0050, -0.0009,  0.0101,  0.0162,  0.0052, -0.0094, -0.0195,\n",
      "        -0.0200,  0.0334, -0.0074, -0.0107, -0.0106,  0.0179,  0.0315, -0.0237,\n",
      "         0.0026, -0.0135, -0.0294,  0.0069, -0.0282, -0.0277,  0.0143,  0.0324,\n",
      "        -0.0008,  0.0177, -0.0248, -0.0074,  0.0075,  0.0130, -0.0254, -0.0020,\n",
      "         0.0144, -0.0301, -0.0022, -0.0102, -0.0099, -0.0097,  0.0073, -0.0241,\n",
      "         0.0035,  0.0324,  0.0346,  0.0157,  0.0022,  0.0103, -0.0171, -0.0058],\n",
      "       requires_grad=True)\n"
     ]
    }
   ],
   "source": [
    "print(model.fc1.weight)\n",
    "print(model.fc1.bias)"
   ]
  },
  {
   "cell_type": "markdown",
   "metadata": {},
   "source": [
    "For custom initialization, we want to modify these tensors in place. These are actually autograd *Variables*, so we need to get back the actual tensors with `model.fc1.weight.data`. Once we have the tensors, we can fill them with zeros (for biases) or random normal values."
   ]
  },
  {
   "cell_type": "code",
   "execution_count": 46,
   "metadata": {},
   "outputs": [
    {
     "data": {
      "text/plain": [
       "tensor([0., 0., 0., 0., 0., 0., 0., 0., 0., 0., 0., 0., 0., 0., 0., 0., 0., 0., 0., 0., 0., 0., 0., 0.,\n",
       "        0., 0., 0., 0., 0., 0., 0., 0., 0., 0., 0., 0., 0., 0., 0., 0., 0., 0., 0., 0., 0., 0., 0., 0.,\n",
       "        0., 0., 0., 0., 0., 0., 0., 0., 0., 0., 0., 0., 0., 0., 0., 0., 0., 0., 0., 0., 0., 0., 0., 0.,\n",
       "        0., 0., 0., 0., 0., 0., 0., 0., 0., 0., 0., 0., 0., 0., 0., 0., 0., 0., 0., 0., 0., 0., 0., 0.,\n",
       "        0., 0., 0., 0., 0., 0., 0., 0., 0., 0., 0., 0., 0., 0., 0., 0., 0., 0., 0., 0., 0., 0., 0., 0.,\n",
       "        0., 0., 0., 0., 0., 0., 0., 0.])"
      ]
     },
     "execution_count": 46,
     "metadata": {},
     "output_type": "execute_result"
    }
   ],
   "source": [
    "# Set biases to all zeros\n",
    "model.fc1.bias.data.fill_(0)"
   ]
  },
  {
   "cell_type": "code",
   "execution_count": 47,
   "metadata": {},
   "outputs": [
    {
     "data": {
      "text/plain": [
       "tensor([[ 0.0118, -0.0048,  0.0053,  ...,  0.0116, -0.0195,  0.0002],\n",
       "        [-0.0054, -0.0115,  0.0037,  ...,  0.0106, -0.0064, -0.0120],\n",
       "        [-0.0131, -0.0105, -0.0040,  ...,  0.0045, -0.0020, -0.0319],\n",
       "        ...,\n",
       "        [ 0.0105, -0.0053, -0.0100,  ...,  0.0099, -0.0079,  0.0019],\n",
       "        [-0.0026, -0.0041, -0.0055,  ..., -0.0103,  0.0155,  0.0207],\n",
       "        [-0.0020,  0.0004,  0.0022,  ...,  0.0092, -0.0053, -0.0049]])"
      ]
     },
     "execution_count": 47,
     "metadata": {},
     "output_type": "execute_result"
    }
   ],
   "source": [
    "# sample from random normal with standard dev = 0.01\n",
    "model.fc1.weight.data.normal_(std=0.01)"
   ]
  },
  {
   "cell_type": "markdown",
   "metadata": {},
   "source": [
    "### Forward pass\n",
    "\n",
    "Now that we have a network, let's see what happens when we pass in an image."
   ]
  },
  {
   "cell_type": "code",
   "execution_count": 48,
   "metadata": {},
   "outputs": [
    {
     "data": {
      "image/png": "[encoded data removed]",
      "text/plain": [
       "<Figure size 600x900 with 2 Axes>"
      ]
     },
     "metadata": {
      "image/png": {
       "height": 327,
       "width": 589
      }
     },
     "output_type": "display_data"
    }
   ],
   "source": [
    "# Grab some data \n",
    "dataiter = iter(trainloader)\n",
    "images, labels = next(dataiter)\n",
    "\n",
    "# Resize images into a 1D vector, new shape is (batch size, color channels, image pixels) \n",
    "images.resize_(64, 1, 784)\n",
    "# or images.resize_(images.shape[0], 1, 784) to automatically get batch size\n",
    "\n",
    "# Forward pass through the network\n",
    "img_idx = 0\n",
    "ps = model.forward(images[img_idx,:])\n",
    "\n",
    "img = images[img_idx]\n",
    "helper.view_classify(img.view(1, 28, 28), ps)"
   ]
  },
  {
   "cell_type": "markdown",
   "metadata": {},
   "source": [
    "As you can see above, our network has basically no idea what this digit is. It's because we haven't trained it yet, all the weights are random!\n",
    "\n",
    "### Using `nn.Sequential`\n",
    "\n",
    "PyTorch provides a convenient way to build networks like this where a tensor is passed sequentially through operations, `nn.Sequential` ([documentation](https://pytorch.org/docs/master/nn.html#torch.nn.Sequential)). Using this to build the equivalent network:"
   ]
  },
  {
   "cell_type": "code",
   "execution_count": 49,
   "metadata": {},
   "outputs": [
    {
     "name": "stdout",
     "output_type": "stream",
     "text": [
      "Sequential(\n",
      "  (0): Linear(in_features=784, out_features=128, bias=True)\n",
      "  (1): ReLU()\n",
      "  (2): Linear(in_features=128, out_features=64, bias=True)\n",
      "  (3): ReLU()\n",
      "  (4): Linear(in_features=64, out_features=10, bias=True)\n",
      "  (5): Softmax(dim=1)\n",
      ")\n"
     ]
    },
    {
     "data": {
      "image/png": "[encoded data removed]",
      "text/plain": [
       "<Figure size 600x900 with 2 Axes>"
      ]
     },
     "metadata": {
      "image/png": {
       "height": 327,
       "width": 589
      }
     },
     "output_type": "display_data"
    }
   ],
   "source": [
    "# Hyperparameters for our network\n",
    "input_size = 784\n",
    "hidden_sizes = [128, 64]\n",
    "output_size = 10\n",
    "\n",
    "# Build a feed-forward network\n",
    "model = nn.Sequential(nn.Linear(input_size, hidden_sizes[0]),\n",
    "                      nn.ReLU(),\n",
    "                      nn.Linear(hidden_sizes[0], hidden_sizes[1]),\n",
    "                      nn.ReLU(),\n",
    "                      nn.Linear(hidden_sizes[1], output_size),\n",
    "                      nn.Softmax(dim=1))\n",
    "print(model)\n",
    "\n",
    "# Forward pass through the network and display output\n",
    "images, labels = next(iter(trainloader))\n",
    "images.resize_(images.shape[0], 1, 784)\n",
    "ps = model.forward(images[0,:])\n",
    "helper.view_classify(images[0].view(1, 28, 28), ps)"
   ]
  },
  {
   "cell_type": "markdown",
   "metadata": {},
   "source": [
    "The operations are availble by passing in the appropriate index. For example, if you want to get first Linear operation and look at the weights, you'd use `model[0]`."
   ]
  },
  {
   "cell_type": "code",
   "execution_count": null,
   "metadata": {},
   "outputs": [
    {
     "name": "stdout",
     "output_type": "stream",
     "text": [
      "Linear(in_features=784, out_features=128, bias=True)\n"
     ]
    },
    {
     "data": {
      "text/plain": [
       "Parameter containing:\n",
       "tensor([[-7.0372e-03,  2.9689e-02,  2.6028e-02,  ...,  1.1196e-02,\n",
       "         -2.1928e-02, -3.4886e-02],\n",
       "        [ 1.0624e-04, -1.6610e-02, -2.2891e-02,  ..., -6.4412e-03,\n",
       "         -2.5026e-02,  1.0674e-02],\n",
       "        [-2.4707e-02,  1.4146e-02,  2.0084e-02,  ...,  1.2227e-02,\n",
       "          2.3441e-02, -9.5175e-03],\n",
       "        ...,\n",
       "        [-2.0119e-02,  7.2614e-03, -1.3481e-02,  ...,  8.1745e-03,\n",
       "         -1.3348e-02, -1.1955e-02],\n",
       "        [ 3.2282e-02,  1.8674e-02, -3.0826e-02,  ...,  1.7296e-02,\n",
       "         -2.6710e-02, -3.0684e-02],\n",
       "        [ 1.7686e-02,  3.1376e-02, -2.2645e-02,  ...,  2.4630e-02,\n",
       "          3.1129e-02,  7.0939e-03]])"
      ]
     },
     "execution_count": 17,
     "metadata": {},
     "output_type": "execute_result"
    }
   ],
   "source": [
    "print(model[0])\n",
    "model[0].weight"
   ]
  },
  {
   "cell_type": "markdown",
   "metadata": {},
   "source": [
    "You can also pass in an `OrderedDict` to name the individual layers and operations, instead of using incremental integers. Note that dictionary keys must be unique, so _each operation must have a different name_."
   ]
  },
  {
   "cell_type": "code",
   "execution_count": null,
   "metadata": {},
   "outputs": [
    {
     "data": {
      "text/plain": [
       "Sequential(\n",
       "  (fc1): Linear(in_features=784, out_features=128, bias=True)\n",
       "  (relu1): ReLU()\n",
       "  (fc2): Linear(in_features=128, out_features=64, bias=True)\n",
       "  (relu2): ReLU()\n",
       "  (output): Linear(in_features=64, out_features=10, bias=True)\n",
       "  (softmax): Softmax()\n",
       ")"
      ]
     },
     "execution_count": 18,
     "metadata": {},
     "output_type": "execute_result"
    }
   ],
   "source": [
    "from collections import OrderedDict\n",
    "model = nn.Sequential(OrderedDict([\n",
    "                      ('fc1', nn.Linear(input_size, hidden_sizes[0])),\n",
    "                      ('relu1', nn.ReLU()),\n",
    "                      ('fc2', nn.Linear(hidden_sizes[0], hidden_sizes[1])),\n",
    "                      ('relu2', nn.ReLU()),\n",
    "                      ('output', nn.Linear(hidden_sizes[1], output_size)),\n",
    "                      ('softmax', nn.Softmax(dim=1))]))\n",
    "model"
   ]
  },
  {
   "cell_type": "markdown",
   "metadata": {},
   "source": [
    "Now you can access layers either by integer or the name"
   ]
  },
  {
   "cell_type": "code",
   "execution_count": null,
   "metadata": {},
   "outputs": [
    {
     "name": "stdout",
     "output_type": "stream",
     "text": [
      "Linear(in_features=784, out_features=128, bias=True)\n",
      "Linear(in_features=784, out_features=128, bias=True)\n"
     ]
    }
   ],
   "source": [
    "print(model[0])\n",
    "print(model.fc1)"
   ]
  },
  {
   "cell_type": "markdown",
   "metadata": {},
   "source": [
    "In the next notebook, we'll see how we can train a neural network to accuractly predict the numbers appearing in the MNIST images."
   ]
  }
 ],
 "metadata": {
  "kernelspec": {
   "display_name": "pytorch_env",
   "language": "python",
   "name": "python3"
  },
  "language_info": {
   "codemirror_mode": {
    "name": "ipython",
    "version": 3
   },
   "file_extension": ".py",
   "mimetype": "text/x-python",
   "name": "python",
   "nbconvert_exporter": "python",
   "pygments_lexer": "ipython3",
   "version": "3.12.9"
  }
 },
 "nbformat": 4,
 "nbformat_minor": 2
}
