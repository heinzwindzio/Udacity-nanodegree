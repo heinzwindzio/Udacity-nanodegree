{
 "cells": [
  {
   "cell_type": "markdown",
   "metadata": {},
   "source": []
  },
  {
   "cell_type": "markdown",
   "metadata": {},
   "source": [
    "testing git hub\n",
    "\n",
    "3/23/25 4:57\n"
   ]
  },
  {
   "cell_type": "code",
   "execution_count": 2,
   "metadata": {},
   "outputs": [
    {
     "name": "stdout",
     "output_type": "stream",
     "text": [
      "test 3/23/25 5:02\n",
      "test 3/23/25 6:02\n",
      "test 3/24/25 7:55\n",
      "test 3/24/25 8:10\n"
     ]
    }
   ],
   "source": [
    "print('test 3/23/25 5:02')\n",
    "print('test 3/23/25 6:02')\n",
    "print('test 3/24/25 7:55')\n",
    "print('test 3/24/25 8:10')"
   ]
  }
 ],
 "metadata": {
  "kernelspec": {
   "display_name": "base",
   "language": "python",
   "name": "python3"
  },
  "language_info": {
   "codemirror_mode": {
    "name": "ipython",
    "version": 3
   },
   "file_extension": ".py",
   "mimetype": "text/x-python",
   "name": "python",
   "nbconvert_exporter": "python",
   "pygments_lexer": "ipython3",
   "version": "3.12.7"
  }
 },
 "nbformat": 4,
 "nbformat_minor": 2
}
