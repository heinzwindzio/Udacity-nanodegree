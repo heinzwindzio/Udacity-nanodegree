{
 "cells": [
  {
   "cell_type": "code",
   "execution_count": 3,
   "metadata": {},
   "outputs": [
    {
     "name": "stdout",
     "output_type": "stream",
     "text": [
      "Nice!  You got it all correct.\n"
     ]
    }
   ],
   "source": [
    "# TODO: Set and_weight1, and_weight2, and and_bias\n",
    "and_weight1 = .2\n",
    "and_weight2 = .2\n",
    "and_bias = -.3\n",
    "\n",
    "### Notebook grading\n",
    "\n",
    "# Inputs and outputs (only 1 AND 1 should result in True)\n",
    "and_test_inputs = [(1, 1), (1, 0), (0, 1), (0, 0)]\n",
    "and_correct_outputs = [True, False, False, False]\n",
    "and_outputs = []\n",
    "\n",
    "# Generate output\n",
    "for test_input in and_test_inputs:\n",
    "\n",
    "    # Wx + b = 0\n",
    "    linear_combination = and_weight1 * test_input[0] + and_weight2 * test_input[1] + and_bias\n",
    "    output = linear_combination >= 0\n",
    "    and_outputs.append(output)\n",
    "\n",
    "# Check output correctness\n",
    "if and_outputs == and_correct_outputs:\n",
    "    print('Nice!  You got it all correct.')\n",
    "else:\n",
    "    for index in range(len(and_outputs)):\n",
    "        if and_outputs[index] != and_correct_outputs[index]:\n",
    "            print(\"For the input {} your weights and bias \\\n",
    "produced an output of {}. The correct output is {}.\".format(\n",
    "                and_test_inputs[index],\n",
    "                and_outputs[index],\n",
    "                and_correct_outputs[index]\n",
    "            ))\n",
    "            break"
   ]
  }
 ],
 "metadata": {
  "kernelspec": {
   "display_name": "base",
   "language": "python",
   "name": "python3"
  },
  "language_info": {
   "codemirror_mode": {
    "name": "ipython",
    "version": 3
   },
   "file_extension": ".py",
   "mimetype": "text/x-python",
   "name": "python",
   "nbconvert_exporter": "python",
   "pygments_lexer": "ipython3",
   "version": "3.12.7"
  }
 },
 "nbformat": 4,
 "nbformat_minor": 2
}
