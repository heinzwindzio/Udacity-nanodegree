{
 "cells": [
  {
   "cell_type": "markdown",
   "metadata": {},
   "source": [
    "Set the weights (and_weight1, and_weight2) and bias (and_bias) to values that will correctly determine the AND operation as shown above. More than one set of values will work!"
   ]
  },
  {
   "cell_type": "code",
   "execution_count": 1,
   "metadata": {},
   "outputs": [
    {
     "name": "stdout",
     "output_type": "stream",
     "text": [
      "Nice!  You got it all correct.\n"
     ]
    }
   ],
   "source": [
    "# TODO: Set and_weight1, and_weight2, and and_bias\n",
    "and_weight1 = .2\n",
    "and_weight2 = .2\n",
    "and_bias = -.3\n",
    "\n",
    "### Notebook grading\n",
    "\n",
    "# Inputs and outputs (only 1 AND 1 should result in True)\n",
    "and_test_inputs = [(1, 1), (1, 0), (0, 1), (0, 0)]\n",
    "and_correct_outputs = [True, False, False, False]\n",
    "and_outputs = []\n",
    "\n",
    "# Generate output\n",
    "for test_input in and_test_inputs:\n",
    "\n",
    "    # Wx + b = 0\n",
    "    linear_combination = and_weight1 * test_input[0] + and_weight2 * test_input[1] + and_bias\n",
    "    output = linear_combination >= 0\n",
    "    and_outputs.append(output)\n",
    "\n",
    "# Check output correctness\n",
    "if and_outputs == and_correct_outputs:\n",
    "    print('Nice!  You got it all correct.')\n",
    "else:\n",
    "    for index in range(len(and_outputs)):\n",
    "        if and_outputs[index] != and_correct_outputs[index]:\n",
    "            print(\"For the input {} your weights and bias \\\n",
    "produced an output of {}. The correct output is {}.\".format(\n",
    "                and_test_inputs[index],\n",
    "                and_outputs[index],\n",
    "                and_correct_outputs[index]\n",
    "            ))\n",
    "            break"
   ]
  },
  {
   "cell_type": "markdown",
   "metadata": {},
   "source": [
    "## What are the weights and bias for the NOT perceptron? ##\n",
    "\n",
    "Set the weights (not_weight1, not_weight2) and bias not_bias to the values that calculate the NOT operation on the second input and ignores the first input."
   ]
  },
  {
   "cell_type": "code",
   "execution_count": 5,
   "metadata": {},
   "outputs": [
    {
     "name": "stdout",
     "output_type": "stream",
     "text": [
      "Nice!  You got it all correct.\n"
     ]
    },
    {
     "ename": "",
     "evalue": "",
     "output_type": "error",
     "traceback": [
      "\u001b[1;31mThe Kernel crashed while executing code in the current cell or a previous cell. \n",
      "\u001b[1;31mPlease review the code in the cell(s) to identify a possible cause of the failure. \n",
      "\u001b[1;31mClick <a href='https://aka.ms/vscodeJupyterKernelCrash'>here</a> for more info. \n",
      "\u001b[1;31mView Jupyter <a href='command:jupyter.viewOutput'>log</a> for further details."
     ]
    }
   ],
   "source": [
    "# TODO: Set not_weight1, not_weight2, and not_bias\n",
    "not_weight1 = 0\n",
    "not_weight2 = -.5\n",
    "not_bias = .3\n",
    "\n",
    "### Notebook grading\n",
    "\n",
    "# Inputs and outputs (True only if the second value is 0)\n",
    "not_test_inputs = [(0, 0), (0, 1), (1, 0), (1, 1)]\n",
    "not_correct_outputs = [True, False, True, False]\n",
    "not_outputs = []\n",
    "\n",
    "# Generate output\n",
    "for test_input in not_test_inputs:\n",
    "    linear_combination = not_weight1 * test_input[0] \\\n",
    "                            + not_weight2 * test_input[1] \\\n",
    "                            + not_bias\n",
    "    output = linear_combination >= 0\n",
    "    not_outputs.append(output)\n",
    "\n",
    "# Check output correctness\n",
    "if not_outputs == not_correct_outputs:\n",
    "    print('Nice!  You got it all correct.')\n",
    "else:\n",
    "    for index in range(len(not_outputs)):\n",
    "        if not_outputs[index] != not_correct_outputs[index]:\n",
    "            print(\"For the input {} your weights and bias \\\n",
    "produced an output of {}. The correct output is {}.\".format(\n",
    "                not_test_inputs[index],\n",
    "                not_outputs[index],\n",
    "                not_correct_outputs[index]\n",
    "            ))\n",
    "            break"
   ]
  }
 ],
 "metadata": {
  "kernelspec": {
   "display_name": "base",
   "language": "python",
   "name": "python3"
  },
  "language_info": {
   "codemirror_mode": {
    "name": "ipython",
    "version": 3
   },
   "file_extension": ".py",
   "mimetype": "text/x-python",
   "name": "python",
   "nbconvert_exporter": "python",
   "pygments_lexer": "ipython3",
   "version": "3.12.7"
  }
 },
 "nbformat": 4,
 "nbformat_minor": 2
}
