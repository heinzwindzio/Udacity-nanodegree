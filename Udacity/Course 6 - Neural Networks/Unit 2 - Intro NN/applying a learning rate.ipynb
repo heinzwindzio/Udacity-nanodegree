{
 "cells": [
  {
   "cell_type": "markdown",
   "metadata": {},
   "source": [
    "![image](image1.png)"
   ]
  },
  {
   "cell_type": "code",
   "execution_count": null,
   "metadata": {},
   "outputs": [],
   "source": [
    "w1 = 3\n",
    "x1 = 1\n",
    "w2 = 4\n",
    "x2 = 1\n",
    "b = -10\n",
    "LR = .1\n",
    "\n",
    "count = 0\n",
    "\n",
    "# line starts a 3(x1) * 4(x2) + (-10) = 0\n",
    "# solve for one point (1, 1)\n",
    "# use a learning rate of 0.1\n",
    "\n",
    "while True:\n",
    "    value = w1*x1 + w2*x2 + b\n",
    "    print(f'Value of line: {value:.1f} \\n')\n",
    "\n",
    "    # calculate value of the line\n",
    "    if w1*x1 + w2*x2 + b < 0:\n",
    "        count= count+1\n",
    "\n",
    "        # we know Wx + b < 0, so we add\n",
    "        w1 = w1 + (x1 * LR)\n",
    "        w2 = w2 + (x2 * LR)\n",
    "        b = b + (1 * LR)\n",
    "\n",
    "        print(f'{w1:.1f}x1 + {w2:.1f}*x2 + {b:.1f}')\n",
    "    else:\n",
    "        print('number of loops: ', count)\n",
    "        break\n",
    "\n",
    "\n",
    "\n",
    "\n"
   ]
  }
 ],
 "metadata": {
  "kernelspec": {
   "display_name": "base",
   "language": "python",
   "name": "python3"
  },
  "language_info": {
   "codemirror_mode": {
    "name": "ipython",
    "version": 3
   },
   "file_extension": ".py",
   "mimetype": "text/x-python",
   "name": "python",
   "nbconvert_exporter": "python",
   "pygments_lexer": "ipython3",
   "version": "3.12.7"
  }
 },
 "nbformat": 4,
 "nbformat_minor": 2
}
