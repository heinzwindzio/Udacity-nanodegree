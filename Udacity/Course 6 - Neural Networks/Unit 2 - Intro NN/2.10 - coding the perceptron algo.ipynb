{
 "cells": [
  {
   "cell_type": "code",
   "execution_count": 25,
   "metadata": {},
   "outputs": [
    {
     "data": {
      "text/plain": [
       "\"\\n    while True:\\n        value = w1*x1 + w2*x2 + b\\n        print(f'Value of line: {value:.1f} \\n')\\n\\n        # calculate value of the line\\n        if w1*x1 + w2*x2 + b < 0:\\n            count= count+1\\n\\n            # we know Wx + b < 0, so we add\\n            w1 = w1 + (x1 * LR)\\n            w2 = w2 + (x2 * LR)\\n            b = b + (1 * LR)\\n\\n            print(f'{w1:.1f}x1 + {w2:.1f}*x2 + {b:.1f}')\\n        else:\\n            print('number of loops: ', count)\\n            break\\n    return W, b\\n\""
      ]
     },
     "execution_count": 25,
     "metadata": {},
     "output_type": "execute_result"
    }
   ],
   "source": [
    "import matplotlib.pyplot as plt\n",
    "import numpy as np\n",
    "import pandas as pd\n",
    "\n",
    "%matplotlib inline\n",
    "\n",
    "# Setting the random seed\n",
    "# Feel free to change it to see different solutions\n",
    "np.random.seed(42)\n",
    "\n",
    "def step_function(t):\n",
    "    if t >= 0:\n",
    "        return 1\n",
    "    return 0\n",
    "\n",
    "def prediction(X, W, b):\n",
    "    return step_function((np.matmul(X,W)+b)[0])\n",
    "\n",
    "# TODO: Fill in the code below to implement the perceptron trick.\n",
    "def perceptron_step(X, y, W, b, learn_rate = 0.01):\n",
    "    \"\"\"\n",
    "    The function should receive as inputs the data X, the labels y, the\n",
    "    weights W (as an array), and the bias b, update the weights and bias\n",
    "    W, b, according to the perceptron algorithm, and return W and b.\n",
    "    \"\"\"\n",
    "    # print the line\n",
    "    print(f'Line is {W[0]}(x1) + {W[1]}(x2) + {b} = 0 \\n')\n",
    "    print(f'Learning rate: {learn_rate}')\n",
    "    \n",
    "    # loop through each point\n",
    "    for n in range(len(X)):\n",
    "\n",
    "        # check each point to see if it is misclassified\n",
    "        value = W[0] * X[n][0] + W[1] * X[n][1] + b\n",
    "        if((((value) >= 0) and (y[n] == 1)) or\n",
    "            (((value) < 0) and (y[n] == 0))):\n",
    "            print(f'Correctly classified point! : y={y[n]} AND {W[0]}{X[n][0]} + {W[1]}{X[n][1]} + {b} \\n')\n",
    "        else:\n",
    "            print(f'Incorrectly classified point! : y={y[n]} AND {W[0]}{X[n][0]} + {W[1]}{X[n][1]} + {b} \\n')\n",
    "\n",
    "            while True:\n",
    "\n",
    "                # if value is negative but label\n",
    "                if((((value) >= 0) and (y[n] == 1))\n",
    "                print(f'Value of line: {value:.1f} \\n')\n",
    "\n",
    "                # calculate value of the line\n",
    "                if w1*x1 + w2*x2 + b < 0:\n",
    "                    count= count+1\n",
    "\n",
    "                    # we know Wx + b < 0, so we add\n",
    "                    w1 = w1 + (x1 * LR)\n",
    "                    w2 = w2 + (x2 * LR)\n",
    "                    b = b + (1 * LR)\n",
    "\n",
    "                    print(f'{w1:.1f}x1 + {w2:.1f}*x2 + {b:.1f}')\n",
    "                else:\n",
    "                    print('number of loops: ', count)\n",
    "                    break\n",
    "    return W, b"
   ]
  },
  {
   "cell_type": "code",
   "execution_count": 26,
   "metadata": {},
   "outputs": [
    {
     "name": "stdout",
     "output_type": "stream",
     "text": [
      "Line is [0.5](x1) + [0.5](x2) + 0.5 = 0 \n",
      "\n",
      "Learning rate: 0.01\n",
      "Correctly classified point! : y=1 AND [0.5]1 + [0.5]1 + 0.5 \n",
      "\n",
      "Correctly classified point! : y=1 AND [0.5]1 + [0.5]-1 + 0.5 \n",
      "\n",
      "Incorrectly classified point! : y=0 AND [0.5]-1 + [0.5]1 + 0.5 \n",
      "\n",
      "Correctly classified point! : y=0 AND [0.5]-1 + [0.5]-1 + 0.5 \n",
      "\n"
     ]
    },
    {
     "ename": "TypeError",
     "evalue": "cannot unpack non-iterable NoneType object",
     "output_type": "error",
     "traceback": [
      "\u001b[1;31m---------------------------------------------------------------------------\u001b[0m",
      "\u001b[1;31mTypeError\u001b[0m                                 Traceback (most recent call last)",
      "Cell \u001b[1;32mIn[26], line 8\u001b[0m\n\u001b[0;32m      5\u001b[0m W_test \u001b[38;5;241m=\u001b[39m np\u001b[38;5;241m.\u001b[39marray([[\u001b[38;5;241m0.5\u001b[39m], [\u001b[38;5;241m0.5\u001b[39m]])\n\u001b[0;32m      6\u001b[0m b_test \u001b[38;5;241m=\u001b[39m \u001b[38;5;241m0.5\u001b[39m\n\u001b[1;32m----> 8\u001b[0m output_W, output_b \u001b[38;5;241m=\u001b[39m perceptron_step(\n\u001b[0;32m      9\u001b[0m     X_test,\n\u001b[0;32m     10\u001b[0m     y_test,\n\u001b[0;32m     11\u001b[0m     W_test,\n\u001b[0;32m     12\u001b[0m     b_test,\n\u001b[0;32m     13\u001b[0m     \u001b[38;5;241m0.01\u001b[39m\n\u001b[0;32m     14\u001b[0m )\n\u001b[0;32m     15\u001b[0m solution_W \u001b[38;5;241m=\u001b[39m np\u001b[38;5;241m.\u001b[39marray([[ \u001b[38;5;241m0.51\u001b[39m],[ \u001b[38;5;241m0.49\u001b[39m]])\n\u001b[0;32m     16\u001b[0m solution_b \u001b[38;5;241m=\u001b[39m \u001b[38;5;241m0.49\u001b[39m\n",
      "\u001b[1;31mTypeError\u001b[0m: cannot unpack non-iterable NoneType object"
     ]
    }
   ],
   "source": [
    "# Testing your algorithm code\n",
    "\n",
    "X_test = np.array([[1,1],[1,-1],[-1,1],[-1,-1]])\n",
    "y_test = np.array([1,1,0,0])\n",
    "W_test = np.array([[0.5], [0.5]])\n",
    "b_test = 0.5\n",
    "\n",
    "output_W, output_b = perceptron_step(\n",
    "    X_test,\n",
    "    y_test,\n",
    "    W_test,\n",
    "    b_test,\n",
    "    0.01\n",
    ")\n",
    "solution_W = np.array([[ 0.51],[ 0.49]])\n",
    "solution_b = 0.49\n",
    "if np.array_equal(output_W, solution_W) and output_b == solution_b:\n",
    "    print(\"Nice work coding the perceptron algorithm!\")\n",
    "else:\n",
    "    print(\"Try again. For perceptron_step(\\n{}, \\n{}, \\n{}, \\n{}, \\\n",
    "\\n{}\\n)\\nthe expected result was \\nW=\\n{}\\nand b={}, but your output \\\n",
    "was \\nW=\\n{}\\nand b={}\".format(\n",
    "        X_test,\n",
    "        y_test,\n",
    "        W_test,\n",
    "        b_test,\n",
    "        0.01,\n",
    "        solution_W,\n",
    "        solution_b,\n",
    "        output_W,\n",
    "        output_b\n",
    "    ))"
   ]
  }
 ],
 "metadata": {
  "kernelspec": {
   "display_name": "base",
   "language": "python",
   "name": "python3"
  },
  "language_info": {
   "codemirror_mode": {
    "name": "ipython",
    "version": 3
   },
   "file_extension": ".py",
   "mimetype": "text/x-python",
   "name": "python",
   "nbconvert_exporter": "python",
   "pygments_lexer": "ipython3",
   "version": "3.12.7"
  }
 },
 "nbformat": 4,
 "nbformat_minor": 2
}
