{
 "cells": [
  {
   "cell_type": "markdown",
   "metadata": {},
   "source": [
    "Matrix A = | 1 2 |\n",
    "\n",
    "           | 3 4 |\n",
    "\n",
    "\n",
    "\n",
    "Matrix B = | 5 6 |\n",
    "\n",
    "           | 7 8 |\n",
    "\n",
    "\n",
    "\n",
    "Resulting Matrix C = | (1*5 + 2*7) (1*6 + 2*8) |\n",
    "\n",
    "                       | (3*5 + 4*7) (3*6 + 4*8) |\n",
    "\n",
    "                       \n",
    "\n",
    "                       = | 19 22 |\n",
    "\n",
    "                         | 43 50 |\n",
    "\n"
   ]
  },
  {
   "cell_type": "code",
   "execution_count": 48,
   "metadata": {},
   "outputs": [
    {
     "name": "stdout",
     "output_type": "stream",
     "text": [
      "32\n"
     ]
    }
   ],
   "source": [
    "import numpy as np\n",
    "\n",
    "# dot function\n",
    "a = np.array([1, 2, 3])\n",
    "b = np.array([4, 5, 6])\n",
    "\n",
    "# Dot product of 1D arrays\n",
    "result = np.dot(a, b)\n",
    "\n",
    "# Output: 32 (1*4 + 2*5 + 3*6)\n",
    "print(result)  \n",
    "\n"
   ]
  },
  {
   "cell_type": "code",
   "execution_count": 49,
   "metadata": {},
   "outputs": [
    {
     "name": "stdout",
     "output_type": "stream",
     "text": [
      "[[19 22]\n",
      " [43 50]]\n"
     ]
    }
   ],
   "source": [
    "# Matrix multiplication\n",
    "A = np.array([[1, 2], [3, 4]])\n",
    "B = np.array([[5, 6], [7, 8]])\n",
    "\n",
    "result = np.dot(A, B)\n",
    "print(result)\n",
    "# Output: \n",
    "# [[19 22]\n",
    "# [43 50]]"
   ]
  },
  {
   "cell_type": "code",
   "execution_count": 50,
   "metadata": {},
   "outputs": [],
   "source": [
    "\n",
    "def unit_step(v):\n",
    "\t# y hat = True if Wx + b >=0, otherwise False\n",
    "\tif v >= 0:\n",
    "\t\treturn 1\n",
    "\telse:\n",
    "\t\treturn 0\n",
    "\t\n",
    "def perceptron(x, w, b):\n",
    "    # Function implemented by a perceptron with weight vector w and bias b \"\n",
    "\tv = np.dot(w, x) + b\n",
    "\n",
    "\ty = unit_step(v)\n",
    "\treturn y\n"
   ]
  },
  {
   "cell_type": "code",
   "execution_count": 58,
   "metadata": {},
   "outputs": [
    {
     "name": "stdout",
     "output_type": "stream",
     "text": [
      "NOT (0) = 1\n",
      "NOT (0) = 0\n"
     ]
    }
   ],
   "source": [
    "\n",
    "def NOT_percep(x):\n",
    "\treturn perceptron(x, w=-1, b=0.5)\n",
    "\n",
    "\n",
    "print(f'NOT (0) = {NOT_percep(0)}')\n",
    "print(f'NOT (0) = {NOT_percep(1)}')"
   ]
  },
  {
   "cell_type": "code",
   "execution_count": 52,
   "metadata": {},
   "outputs": [],
   "source": [
    "# Test data\n",
    "\n",
    "example1 = np.array([1, 1])\n",
    "example2 = np.array([1, 0])\n",
    "example3 = np.array([0, 1])\n",
    "example4 = np.array([0, 0])"
   ]
  },
  {
   "cell_type": "code",
   "execution_count": 53,
   "metadata": {},
   "outputs": [
    {
     "name": "stdout",
     "output_type": "stream",
     "text": [
      "AND (1, 1) = 1\n",
      "AND (1, 0) = 0\n",
      "AND (0, 1) = 0\n",
      "AND (0, 0) = 0\n"
     ]
    }
   ],
   "source": [
    "def AND_percep(x):\n",
    "    w = np.array([1, 1])\n",
    "    b = -1.5\n",
    "    return perceptron(x, w, b)\n",
    "\n",
    "\n",
    "print(f'AND ({1}, {1}) = {AND_percep(example1)}')\n",
    "print(f'AND ({1}, {0}) = {AND_percep(example2)}')\n",
    "print(f'AND ({0}, {1}) = {AND_percep(example3)}')\n",
    "print(f'AND ({0}, {0}) = {AND_percep(example4)}')"
   ]
  },
  {
   "cell_type": "code",
   "execution_count": 56,
   "metadata": {},
   "outputs": [
    {
     "name": "stdout",
     "output_type": "stream",
     "text": [
      "OR (1, 1) = 1\n",
      "OR (1, 0) = 1\n",
      "OR (0, 1) = 1\n",
      "OR (0, 0) = 0\n"
     ]
    }
   ],
   "source": [
    "def OR_percep(x):\n",
    "    w = np.array([1, 1])\n",
    "    b = -0.5\n",
    "    return perceptron(x, w, b)\n",
    "\n",
    "print(f'OR ({1}, {1}) = {OR_percep(example1)}')\n",
    "print(f'OR ({1}, {0}) = {OR_percep(example2)}')\n",
    "print(f'OR ({0}, {1}) = {OR_percep(example3)}')\n",
    "print(f'OR ({0}, {0}) = {OR_percep(example4)}')"
   ]
  },
  {
   "cell_type": "code",
   "execution_count": 55,
   "metadata": {},
   "outputs": [
    {
     "name": "stdout",
     "output_type": "stream",
     "text": [
      "XOR (1, 1) = 1\n",
      "XOR (1, 0) = 0\n",
      "XOR (0, 1) = 0\n",
      "XOR (0, 0) = 0\n"
     ]
    }
   ],
   "source": [
    "def XOR_net(x):\n",
    "    gate_1 = AND_percep(x)\n",
    "    gate_2 = NOT_percep(gate_1)\n",
    "    gate_3 = OR_percep(x)\n",
    "    new_x = np.array([gate_2, gate_3])\n",
    "    output = AND_percep(new_x)\n",
    "    return output\n",
    "\n",
    "print(f'XOR ({1}, {1}) = {AND_percep(example1)}')\n",
    "print(f'XOR ({1}, {0}) = {AND_percep(example2)}')\n",
    "print(f'XOR ({0}, {1}) = {AND_percep(example3)}')\n",
    "print(f'XOR ({0}, {0}) = {AND_percep(example4)}')"
   ]
  },
  {
   "cell_type": "code",
   "execution_count": null,
   "metadata": {},
   "outputs": [],
   "source": []
  }
 ],
 "metadata": {
  "kernelspec": {
   "display_name": "base",
   "language": "python",
   "name": "python3"
  },
  "language_info": {
   "codemirror_mode": {
    "name": "ipython",
    "version": 3
   },
   "file_extension": ".py",
   "mimetype": "text/x-python",
   "name": "python",
   "nbconvert_exporter": "python",
   "pygments_lexer": "ipython3",
   "version": "3.12.7"
  }
 },
 "nbformat": 4,
 "nbformat_minor": 2
}
