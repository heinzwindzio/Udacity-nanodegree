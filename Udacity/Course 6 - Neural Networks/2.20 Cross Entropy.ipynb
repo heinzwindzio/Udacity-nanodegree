{
 "cells": [
  {
   "cell_type": "markdown",
   "metadata": {},
   "source": [
    "![what](cross-entropy.jpg \"CrossEntropy\")"
   ]
  },
  {
   "cell_type": "code",
   "execution_count": 2,
   "metadata": {},
   "outputs": [
    {
     "ename": "",
     "evalue": "",
     "output_type": "error",
     "traceback": [
      "\u001b[1;31mThe Kernel crashed while executing code in the current cell or a previous cell. \n",
      "\u001b[1;31mPlease review the code in the cell(s) to identify a possible cause of the failure. \n",
      "\u001b[1;31mClick <a href='https://aka.ms/vscodeJupyterKernelCrash'>here</a> for more info. \n",
      "\u001b[1;31mView Jupyter <a href='command:jupyter.viewOutput'>log</a> for further details."
     ]
    }
   ],
   "source": [
    "import numpy as np\n",
    "\n",
    "# TODO: complete the function\n",
    "def cross_entropy(Y, P):\n",
    "    \"\"\"\n",
    "    This function takes as input two lists Y and P, and returns the float\n",
    "    corresponding to their cross-entropy.\n",
    "    \"\"\"\n",
    "    # convert the lists to floats\n",
    "    Y = np.float(Y)\n",
    "    P = np.float(P)\n",
    "\n",
    "    # use the np.sum function which iterates through all the values in the arrays, and sums them.\n",
    "    ce = -np.sum(Y * np.log(P) + (1 - Y) * np.log(1-P))\n",
    "\n",
    "    return ce"
   ]
  }
 ],
 "metadata": {
  "kernelspec": {
   "display_name": "base",
   "language": "python",
   "name": "python3"
  },
  "language_info": {
   "codemirror_mode": {
    "name": "ipython",
    "version": 3
   },
   "file_extension": ".py",
   "mimetype": "text/x-python",
   "name": "python",
   "nbconvert_exporter": "python",
   "pygments_lexer": "ipython3",
   "version": "3.12.7"
  }
 },
 "nbformat": 4,
 "nbformat_minor": 2
}
