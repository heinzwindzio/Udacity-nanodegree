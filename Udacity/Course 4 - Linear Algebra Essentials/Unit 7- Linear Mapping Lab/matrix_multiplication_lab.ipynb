{
 "cells": [
  {
   "cell_type": "markdown",
   "metadata": {},
   "source": [
    "# Currency Conversion with Matrix Multiplication \n",
    "\n",
    "In this notebook you will solve a currency problem using matrix multiplication and the python package [NumPy](http://www.numpy.org/). This demonstration is provided to prepare you for using matrix multiplication to solve more complex problems. \n",
    "\n",
    "## Currency Conversion Problem\n",
    "\n",
    "Over the years you have traveled to eight different countries and just happen to have leftover local currency from each of your trips. \n",
    "You are planning to return to one of the eight countries, but you aren't sure which one just yet. \n",
    "You are waiting to find out which will have the cheapest airfare. \n",
    "\n",
    "In preparation, for the trip you *will* want convert *all* your local currency into the currency local of the place you will be traveling to. \n",
    "Therefore, to double check the bank's conversion of your currency, you want to compute the total amount of currency you would expect for each of the eight countries. \n",
    "To compute the conversion you first need to import a matrix that contains the currency conversion rates for each of the eight countries. The data we will be use comes from the [Overview Matrix of Exchange Rates from Bloomberg Cross-Rates _Overall Chart_](https://www.bloomberg.com/markets/currencies/cross-rates) on January, 10 2018. "
   ]
  },
  {
   "cell_type": "markdown",
   "metadata": {},
   "source": [
    "### Coding the Currency Conversion Problem \n",
    "First you will need to create the _**inputs** vector_ that holds the currency you have from the eight countries into a numpy vector. To begin, first import the NumPy package and then use the package to create a vector from a list. Next we convert the vector into a pandas dataframe so that it will print out nicely below with column labels to indicate the country the currency amount is associated to."
   ]
  },
  {
   "cell_type": "code",
   "execution_count": 1,
   "metadata": {},
   "outputs": [
    {
     "name": "stdout",
     "output_type": "stream",
     "text": [
      "Inputs Vector:\n"
     ]
    },
    {
     "data": {
      "text/html": [
       "<div>\n",
       "<style scoped>\n",
       "    .dataframe tbody tr th:only-of-type {\n",
       "        vertical-align: middle;\n",
       "    }\n",
       "\n",
       "    .dataframe tbody tr th {\n",
       "        vertical-align: top;\n",
       "    }\n",
       "\n",
       "    .dataframe thead th {\n",
       "        text-align: right;\n",
       "    }\n",
       "</style>\n",
       "<table border=\"1\" class=\"dataframe\">\n",
       "  <thead>\n",
       "    <tr style=\"text-align: right;\">\n",
       "      <th></th>\n",
       "      <th>USD</th>\n",
       "      <th>EUR</th>\n",
       "      <th>JPY</th>\n",
       "      <th>GBP</th>\n",
       "      <th>CHF</th>\n",
       "      <th>CAD</th>\n",
       "      <th>AUD</th>\n",
       "      <th>HKD</th>\n",
       "    </tr>\n",
       "  </thead>\n",
       "  <tbody>\n",
       "    <tr>\n",
       "      <th>Amounts</th>\n",
       "      <td>70</td>\n",
       "      <td>100</td>\n",
       "      <td>20</td>\n",
       "      <td>80</td>\n",
       "      <td>40</td>\n",
       "      <td>70</td>\n",
       "      <td>60</td>\n",
       "      <td>100</td>\n",
       "    </tr>\n",
       "  </tbody>\n",
       "</table>\n",
       "</div>"
      ],
      "text/plain": [
       "         USD  EUR  JPY  GBP  CHF  CAD  AUD  HKD\n",
       "Amounts   70  100   20   80   40   70   60  100"
      ]
     },
     "execution_count": 1,
     "metadata": {},
     "output_type": "execute_result"
    }
   ],
   "source": [
    "import numpy as np\n",
    "import pandas as pd\n",
    "\n",
    "# Creates numpy vector from a list to represent money (inputs) vector.\n",
    "money = np.asarray([70, 100, 20, 80, 40, 70, 60, 100])\n",
    "\n",
    "# Creates pandas dataframe with column labels(currency_label) from the numpy vector for printing.\n",
    "currency_label = [\"USD\", \"EUR\", \"JPY\", \"GBP\", \"CHF\", \"CAD\", \"AUD\", \"HKD\"]\n",
    "money_df = pd.DataFrame(data=money, index=currency_label, columns=[\"Amounts\"])\n",
    "print(\"Inputs Vector:\")\n",
    "money_df.T"
   ]
  },
  {
   "cell_type": "markdown",
   "metadata": {},
   "source": [
    "Next we need to create the _**weights** matrix_ by importing the currency conversion rates matrix. We will use python package [Pandas](https://pandas.pydata.org/) to quickly read in the matrix and approriately assign row and column labels. Additionally, we define a variable **_path_** to define the location of the currency conversion matrix. The code below imports this weights matrix, converts the dataframe into a numpy matrix, and displays its content to help you determine how to solve the problem using matrix multiplication."
   ]
  },
  {
   "cell_type": "markdown",
   "metadata": {},
   "source": []
  }
 ],
 "metadata": {
  "kernelspec": {
   "display_name": "base",
   "language": "python",
   "name": "python3"
  },
  "language_info": {
   "codemirror_mode": {
    "name": "ipython",
    "version": 3
   },
   "file_extension": ".py",
   "mimetype": "text/x-python",
   "name": "python",
   "nbconvert_exporter": "python",
   "pygments_lexer": "ipython3",
   "version": "3.12.7"
  }
 },
 "nbformat": 4,
 "nbformat_minor": 2
}
