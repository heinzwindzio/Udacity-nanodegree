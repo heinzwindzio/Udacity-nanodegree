{
 "cells": [
  {
   "cell_type": "markdown",
   "metadata": {},
   "source": [
    "## Boolean indexing, Set Operations, Sorting ##"
   ]
  },
  {
   "cell_type": "code",
   "execution_count": 50,
   "metadata": {},
   "outputs": [
    {
     "name": "stdout",
     "output_type": "stream",
     "text": [
      "\n",
      " [ 0  1  2  3  4  5  6  7  8  9 10 11 12 13 14 15 16 17 18 19 20 21 22 23\n",
      " 24]\n",
      "\n",
      " [[ 0  1  2  3  4]\n",
      " [ 5  6  7  8  9]\n",
      " [10 11 12 13 14]\n",
      " [15 16 17 18 19]\n",
      " [20 21 22 23 24]]\n",
      "\n",
      " [11 12 13 14 15 16 17 18 19]\n",
      "\n",
      " [[11 12 13]\n",
      " [14 15 16]\n",
      " [17 18 19]]\n",
      "\n",
      " [[11 12 13]\n",
      " [ 0  0  0]\n",
      " [17 18 19]]\n"
     ]
    }
   ],
   "source": [
    "import numpy as np\n",
    "\n",
    "x = np.arange(25)\n",
    "print('\\n', x)\n",
    "\n",
    "x = x.reshape(5, 5)\n",
    "print('\\n', x)\n",
    "\n",
    "# use a boolean to filter the results\n",
    "x = x[(x>10) & (x<20)]  \n",
    "print('\\n', x)\n",
    "\n",
    "x = x.reshape(3, 3)\n",
    "print('\\n', x)\n",
    "\n",
    "x[((x>13) & (x<17))] = 0\n",
    "print('\\n', x)"
   ]
  },
  {
   "cell_type": "code",
   "execution_count": 51,
   "metadata": {},
   "outputs": [
    {
     "name": "stdout",
     "output_type": "stream",
     "text": [
      "[6]\n",
      "[1 2 3 4 5]\n",
      "[ 1  2  3  4  5  6  7  8  9 10]\n"
     ]
    }
   ],
   "source": [
    "x = np.array([1, 2, 3, 4, 5, 6])\n",
    "y = np.array([6, 7, 8, 9, 10])\n",
    "\n",
    "# set ops on a one dimensional array\n",
    "print(np.intersect1d(x, y))\n",
    "\n",
    "# x minus y\n",
    "print(np.setdiff1d(x, y))\n",
    "\n",
    "# removes dups\n",
    "print(np.union1d(x, y))\n",
    "\n"
   ]
  },
  {
   "cell_type": "markdown",
   "metadata": {},
   "source": [
    "## Sort ##\n",
    "\n",
    "Can be as a function (np.sort()) - sorts the array out of place and doesn't change the original array\n",
    "\n",
    "Can be as a method (x.sort()) - sorts the array in place, and changes the original array\n",
    "\n",
    "Here is sorting a 1D array:"
   ]
  },
  {
   "cell_type": "code",
   "execution_count": 52,
   "metadata": {},
   "outputs": [
    {
     "name": "stdout",
     "output_type": "stream",
     "text": [
      "\n",
      " [8 5 6 8 4 1 6 6 4 8]\n",
      "\n",
      " [1 4 5 6 8]\n",
      "\n",
      " [1 4 5 6 8]\n",
      "\n",
      " [8 5 6 8 4 1 6 6 4 8]\n",
      "\n",
      " [1 4 4 5 6 6 6 8 8 8]\n"
     ]
    }
   ],
   "source": [
    "x = np.random.randint(1, 11, size=(10,))\n",
    "print('\\n', x)  \n",
    "\n",
    "y = np.unique(x)\n",
    "print('\\n', y)\n",
    "\n",
    "y = np.sort(y)\n",
    "print('\\n', y)\n",
    "\n",
    "print('\\n', x)\n",
    "\n",
    "x.sort()\n",
    "print('\\n', x)  \n",
    "\n"
   ]
  },
  {
   "cell_type": "markdown",
   "metadata": {},
   "source": [
    "Here is sorting a 2D array"
   ]
  },
  {
   "cell_type": "code",
   "execution_count": 53,
   "metadata": {},
   "outputs": [
    {
     "name": "stdout",
     "output_type": "stream",
     "text": [
      "\n",
      " [[ 6  1  8  3  7]\n",
      " [ 3  5  9  2  9]\n",
      " [ 6  1  6  1  5]\n",
      " [ 4  1  9 10  7]\n",
      " [ 8  4  1  4  9]]\n",
      "\n",
      " [[ 3  1  1  1  5]\n",
      " [ 4  1  6  2  7]\n",
      " [ 6  1  8  3  7]\n",
      " [ 6  4  9  4  9]\n",
      " [ 8  5  9 10  9]]\n"
     ]
    }
   ],
   "source": [
    "# make a random 2D array\n",
    "x = np.random.randint(1, 11, size=(5, 5))\n",
    "print('\\n', x)\n",
    "\n",
    "# now sort by rows (which kind of seems like sorting by columns)\n",
    "y = np.sort(x, axis=0)\n",
    "print('\\n', y)  \n"
   ]
  },
  {
   "cell_type": "markdown",
   "metadata": {},
   "source": [
    "## Arithmetic ops and Broadcasting ##\n",
    "\n",
    "arrays need to have the same shape or be broadcastable"
   ]
  },
  {
   "cell_type": "code",
   "execution_count": 91,
   "metadata": {},
   "outputs": [
    {
     "name": "stdout",
     "output_type": "stream",
     "text": [
      "[ 6  8 10 12]\n",
      "[ 6  8 10 12]\n",
      "[-4 -4 -4 -4]\n",
      "[-4 -4 -4 -4]\n",
      "[ 5 12 21 32]\n",
      "[ 5 12 21 32]\n",
      "[0.2        0.33333333 0.42857143 0.5       ]\n",
      "[0.2        0.33333333 0.42857143 0.5       ]\n",
      "\n",
      " [[1 2]\n",
      " [3 4]]\n",
      "\n",
      " [[5 6]\n",
      " [7 8]]\n",
      "\n",
      " [[ 6  8]\n",
      " [10 12]]\n",
      "\n",
      " [[1.         1.41421356]\n",
      " [1.73205081 2.        ]]\n",
      "\n",
      " [[ 2.71828183  7.3890561 ]\n",
      " [20.08553692 54.59815003]]\n",
      "\n",
      " [[ 1  4]\n",
      " [ 9 16]]\n",
      "\n",
      " 2.5\n"
     ]
    }
   ],
   "source": [
    "x = np.array([1, 2, 3, 4])\n",
    "y = np.array([5, 6, 7, 8])\n",
    "\n",
    "# this adds each index together\n",
    "print(x + y)\n",
    "print(np.add(x, y))\n",
    "\n",
    "# subtract\n",
    "print(x - y)\n",
    "print(np.subtract(x, y))\n",
    "\n",
    "# multiply\n",
    "print(x * y)\n",
    "print(np.multiply(x, y))\n",
    "\n",
    "# divide\n",
    "print(x / y)\n",
    "print(np.divide(x, y))\n",
    "\n",
    "# try it with a 2D array\n",
    "x = np.array([[1, 2], [3, 4]])\n",
    "print('\\n', x)\n",
    "y = np.array([[5, 6], [7, 8]])\n",
    "print('\\n', y)\n",
    "\n",
    "# this adds each index position together\n",
    "print('\\n', x + y)\n",
    "\n",
    "# perform arithmetic ops on the whole array\n",
    "print('\\n', np.sqrt(x))\n",
    "\n",
    "# exponential, where 'e' equals approx 2.718 \n",
    "print('\\n', np.exp(x))\n",
    "\n",
    "# power\n",
    "print('\\n', np.power(x, 2))\n",
    "\n",
    "# average\n",
    "print('\\n', np.mean(x))\n",
    "\n"
   ]
  },
  {
   "cell_type": "code",
   "execution_count": 77,
   "metadata": {},
   "outputs": [
    {
     "name": "stdout",
     "output_type": "stream",
     "text": [
      "\n",
      " [[1 2]\n",
      " [3 4]]\n",
      "\n",
      " [2. 3.]\n",
      "\n",
      " [1.5 3.5]\n",
      "\n",
      " [4 6]\n",
      "\n",
      " [3 4]\n",
      "\n",
      " [[11 12]\n",
      " [13 14]]\n",
      "\n",
      " [[10 20]\n",
      " [30 40]]\n",
      "\n",
      " [[6 7]\n",
      " [8 9]]\n"
     ]
    }
   ],
   "source": [
    "# average of a row - use the method on the nparray\n",
    "print('\\n', x)\n",
    "print('\\n', x.mean(axis=0))\n",
    "print('\\n', x.mean(axis=1))\n",
    "\n",
    "# sum\n",
    "print('\\n', x.sum(axis=0))\n",
    "\n",
    "# maximum\n",
    "print('\\n', x.max(axis=0))\n",
    "\n",
    "# add/multiply a number to all values of the array\n",
    "# broadcasts the number along the array\n",
    "print('\\n', x + 10)\n",
    "print('\\n', x * 10)\n",
    "\n",
    "# broacast a 1D array to a 2D array. Need to ensure the smaller array can be expanded to fit the shape of the larger array\n",
    "y = np.array([5, 5])\n",
    "print('\\n', x + y)"
   ]
  },
  {
   "cell_type": "markdown",
   "metadata": {},
   "source": [
    "## Broadcasting something over the whole array ##\n",
    "\n",
    "Interesting ways to change the shape of an array from 1D to 2D"
   ]
  },
  {
   "cell_type": "code",
   "execution_count": 90,
   "metadata": {},
   "outputs": [
    {
     "name": "stdout",
     "output_type": "stream",
     "text": [
      "\n",
      " [  10  100 1000]\n",
      "\n",
      " [[  10]\n",
      " [ 100]\n",
      " [1000]]\n",
      "\n",
      " [[1 2 3]\n",
      " [4 5 6]\n",
      " [7 8 9]]\n",
      "\n",
      "This adds the array to every row of the 2D array\n",
      "\n",
      " [[  11  102 1003]\n",
      " [  14  105 1006]\n",
      " [  17  108 1009]]\n",
      "\n",
      "This adds the array to every column of the 2D array\n",
      "\n",
      " [[  11   12   13]\n",
      " [ 104  105  106]\n",
      " [1007 1008 1009]]\n"
     ]
    }
   ],
   "source": [
    "# 1d array\n",
    "x = np.array([10, 100, 1000])\n",
    "print('\\n', x)\n",
    "\n",
    "# 2D array - notice the double brackets\n",
    "y = x.reshape(3, 1)\n",
    "print('\\n', y)\n",
    "\n",
    "z = np.array([[1, 2, 3], [4, 5, 6], [7, 8, 9]])\n",
    "print('\\n', z)\n",
    "\n",
    "# this will add x to each row of z\n",
    "print('\\nThis adds the array to every row of the 2D array')\n",
    "print('\\n', x + z)\n",
    "\n",
    "# this will add y to each column of z\n",
    "print('\\nThis adds the array to every column of the 2D array')\n",
    "print('\\n', y + z)"
   ]
  },
  {
   "cell_type": "code",
   "execution_count": 85,
   "metadata": {},
   "outputs": [
    {
     "name": "stdout",
     "output_type": "stream",
     "text": [
      "\n",
      "x =  [1 2 3]\n",
      "\n",
      "\n",
      "Y = \n",
      " [[1 2 3]\n",
      " [4 5 6]\n",
      " [7 8 9]]\n",
      "\n",
      "\n",
      "Z = \n",
      " [[1]\n",
      " [2]\n",
      " [3]]\n",
      "\n",
      "x + Y = \n",
      " [[ 2  4  6]\n",
      " [ 5  7  9]\n",
      " [ 8 10 12]]\n",
      "\n",
      "Z + Y = \n",
      " [[ 2  3  4]\n",
      " [ 6  7  8]\n",
      " [10 11 12]]\n"
     ]
    }
   ],
   "source": [
    "# We create a rank 1 ndarray\n",
    "x = np.array([1,2,3])\n",
    "\n",
    "# We create a 3 x 3 ndarray\n",
    "Y = np.array([[1,2,3],[4,5,6],[7,8,9]])\n",
    "\n",
    "# We create a 3 x 1 ndarray\n",
    "Z = np.array([1,2,3]).reshape(3,1)\n",
    "\n",
    "# We print x\n",
    "print()\n",
    "print('x = ', x)\n",
    "print()\n",
    "\n",
    "# We print Y\n",
    "print()\n",
    "print('Y = \\n', Y)\n",
    "print()\n",
    "\n",
    "# We print Z\n",
    "print()\n",
    "print('Z = \\n', Z)\n",
    "print()\n",
    "\n",
    "print('x + Y = \\n', x + Y)\n",
    "print()\n",
    "print('Z + Y = \\n',Z + Y)"
   ]
  }
 ],
 "metadata": {
  "kernelspec": {
   "display_name": "base",
   "language": "python",
   "name": "python3"
  },
  "language_info": {
   "codemirror_mode": {
    "name": "ipython",
    "version": 3
   },
   "file_extension": ".py",
   "mimetype": "text/x-python",
   "name": "python",
   "nbconvert_exporter": "python",
   "pygments_lexer": "ipython3",
   "version": "3.12.7"
  }
 },
 "nbformat": 4,
 "nbformat_minor": 2
}
