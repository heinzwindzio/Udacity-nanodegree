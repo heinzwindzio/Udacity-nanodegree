{
 "cells": [
  {
   "cell_type": "code",
   "execution_count": 12,
   "metadata": {},
   "outputs": [
    {
     "name": "stdout",
     "output_type": "stream",
     "text": [
      "1\n",
      "5\n",
      "\n",
      "\n",
      "5\n",
      "4\n"
     ]
    }
   ],
   "source": [
    "import numpy as np\n",
    "\n",
    "x = np.array([1, 2, 3, 4, 5])\n",
    "\n",
    "# don't use ndarray to create ndarrays!\n",
    "\n",
    "\n",
    "print(x[0])\n",
    "print(x[4], end='\\n')\n",
    "\n",
    "print('\\n')\n",
    "      \n",
    "print(x[-1])\n",
    "print(x[-2])"
   ]
  },
  {
   "cell_type": "code",
   "execution_count": 17,
   "metadata": {},
   "outputs": [
    {
     "name": "stdout",
     "output_type": "stream",
     "text": [
      "[ 1  2  3  4 20]\n"
     ]
    }
   ],
   "source": [
    "x[4] = 20\n",
    "\n",
    "print(x)"
   ]
  },
  {
   "cell_type": "code",
   "execution_count": 18,
   "metadata": {},
   "outputs": [
    {
     "name": "stdout",
     "output_type": "stream",
     "text": [
      "[[1 2 3]\n",
      " [4 5 6]\n",
      " [7 8 9]]\n"
     ]
    }
   ],
   "source": [
    "y = np.arange(1, 10).reshape(3, 3)\n",
    "print(y)"
   ]
  },
  {
   "cell_type": "code",
   "execution_count": 22,
   "metadata": {},
   "outputs": [
    {
     "name": "stdout",
     "output_type": "stream",
     "text": [
      "1\n",
      "3\n",
      "20\n",
      "[[ 1  2  3]\n",
      " [ 4  5  6]\n",
      " [ 7  8 20]]\n"
     ]
    }
   ],
   "source": [
    "print(y[0, 0])  \n",
    "print(y[0, 2])\n",
    "print(y[2, 2])\n",
    "\n",
    "y[2, 2] = 20\n",
    "print(y)"
   ]
  },
  {
   "cell_type": "markdown",
   "metadata": {},
   "source": [
    "## Deleting elements in an ndarray ##\n",
    "\n",
    "Note, I'm not sure how you delete from both axis. \n",
    "\n",
    "Also, I'm not sure how you would delete individual values"
   ]
  },
  {
   "cell_type": "code",
   "execution_count": 24,
   "metadata": {},
   "outputs": [
    {
     "name": "stdout",
     "output_type": "stream",
     "text": [
      "[2 3 4]\n"
     ]
    }
   ],
   "source": [
    "x = np.array([1, 2, 3, 4, 5])\n",
    "x = np.delete(x, [0, 4])\n",
    "print(x)"
   ]
  },
  {
   "cell_type": "code",
   "execution_count": 29,
   "metadata": {},
   "outputs": [
    {
     "name": "stdout",
     "output_type": "stream",
     "text": [
      "[[1 2 3]\n",
      " [4 5 6]\n",
      " [7 8 9]]\n",
      "\n",
      " [[4 5 6]\n",
      " [7 8 9]]\n",
      "\n",
      " [[3]\n",
      " [6]\n",
      " [9]]\n"
     ]
    }
   ],
   "source": [
    "x = np.arange(1, 10).reshape(3, 3)\n",
    "print(x)\n",
    "\n",
    "# delete the first row (which is 'axis=0')\n",
    "Y = np.delete(x, 0, axis=0)\n",
    "print('\\n', Y)\n",
    "\n",
    "# delete the first and first columns\n",
    "Y = np.delete(x, [0, 1], axis=1)\n",
    "print('\\n', Y)"
   ]
  },
  {
   "cell_type": "markdown",
   "metadata": {},
   "source": [
    "## Appending to a 2D array ##\n",
    "\n",
    "Note, you can't append a row after appending a column!"
   ]
  },
  {
   "cell_type": "code",
   "execution_count": 45,
   "metadata": {},
   "outputs": [
    {
     "name": "stdout",
     "output_type": "stream",
     "text": [
      "[  1   2   3   4 100]\n",
      "[  1   2   3   4 100 101 102 103]\n"
     ]
    }
   ],
   "source": [
    "x = np.array([1, 2, 3, 4])\n",
    "x = np.append(x, 100)\n",
    "print(x)\n",
    "\n",
    "y = np.append(x, [101, 102, 103])\n",
    "print(y)\n",
    "\n"
   ]
  },
  {
   "cell_type": "code",
   "execution_count": 46,
   "metadata": {},
   "outputs": [
    {
     "name": "stdout",
     "output_type": "stream",
     "text": [
      "[[1 2 3]\n",
      " [4 5 6]\n",
      " [7 8 9]]\n"
     ]
    }
   ],
   "source": [
    "# append rows and columns to a 2D array\n",
    "a = np.arange(1, 10).reshape(3, 3)\n",
    "print(a)\n",
    "\n",
    "\n"
   ]
  },
  {
   "cell_type": "code",
   "execution_count": 56,
   "metadata": {},
   "outputs": [
    {
     "name": "stdout",
     "output_type": "stream",
     "text": [
      "[[1 2 3]\n",
      " [4 5 6]\n",
      " [7 8 9]]\n",
      "\n",
      " [[ 1  2  3 10]\n",
      " [ 4  5  6 11]\n",
      " [ 7  8  9 12]]\n"
     ]
    },
    {
     "ename": "ValueError",
     "evalue": "all the input array dimensions except for the concatenation axis must match exactly, but along dimension 1, the array at index 0 has size 4 and the array at index 1 has size 1",
     "output_type": "error",
     "traceback": [
      "\u001b[1;31m---------------------------------------------------------------------------\u001b[0m",
      "\u001b[1;31mValueError\u001b[0m                                Traceback (most recent call last)",
      "Cell \u001b[1;32mIn[56], line 7\u001b[0m\n\u001b[0;32m      4\u001b[0m append_col \u001b[38;5;241m=\u001b[39m np\u001b[38;5;241m.\u001b[39mappend(matrix, [[\u001b[38;5;241m10\u001b[39m], [\u001b[38;5;241m11\u001b[39m], [\u001b[38;5;241m12\u001b[39m]], axis\u001b[38;5;241m=\u001b[39m\u001b[38;5;241m1\u001b[39m)  \n\u001b[0;32m      5\u001b[0m \u001b[38;5;28mprint\u001b[39m(\u001b[38;5;124m'\u001b[39m\u001b[38;5;130;01m\\n\u001b[39;00m\u001b[38;5;124m'\u001b[39m, append_col)\n\u001b[1;32m----> 7\u001b[0m append_row \u001b[38;5;241m=\u001b[39m np\u001b[38;5;241m.\u001b[39mappend(append_col, [[\u001b[38;5;241m0\u001b[39m], [\u001b[38;5;241m0\u001b[39m], [\u001b[38;5;241m0\u001b[39m], [\u001b[38;5;241m0\u001b[39m]], axis\u001b[38;5;241m=\u001b[39m\u001b[38;5;241m0\u001b[39m)\n\u001b[0;32m      8\u001b[0m \u001b[38;5;28mprint\u001b[39m(\u001b[38;5;124m'\u001b[39m\u001b[38;5;130;01m\\n\u001b[39;00m\u001b[38;5;124m'\u001b[39m, append_row)\n",
      "File \u001b[1;32mc:\\Users\\hwind\\anaconda3\\Lib\\site-packages\\numpy\\lib\\function_base.py:5618\u001b[0m, in \u001b[0;36mappend\u001b[1;34m(arr, values, axis)\u001b[0m\n\u001b[0;32m   5616\u001b[0m     values \u001b[38;5;241m=\u001b[39m ravel(values)\n\u001b[0;32m   5617\u001b[0m     axis \u001b[38;5;241m=\u001b[39m arr\u001b[38;5;241m.\u001b[39mndim\u001b[38;5;241m-\u001b[39m\u001b[38;5;241m1\u001b[39m\n\u001b[1;32m-> 5618\u001b[0m \u001b[38;5;28;01mreturn\u001b[39;00m concatenate((arr, values), axis\u001b[38;5;241m=\u001b[39maxis)\n",
      "\u001b[1;31mValueError\u001b[0m: all the input array dimensions except for the concatenation axis must match exactly, but along dimension 1, the array at index 0 has size 4 and the array at index 1 has size 1"
     ]
    }
   ],
   "source": [
    "matrix = np.arange(1, 10).reshape(3, 3)\n",
    "print(matrix)\n",
    "\n",
    "append_col = np.append(matrix, [[10], [11], [12]], axis=1)  \n",
    "print('\\n', append_col)\n",
    "\n",
    "# CAN'T DO THIS\n",
    "append_row = np.append(append_col, [[0], [0], [0], [0]], axis=0)\n",
    "print('\\n', append_row)\n"
   ]
  },
  {
   "cell_type": "markdown",
   "metadata": {},
   "source": [
    "## Insterting elements into ndarrays ##\n",
    "\n",
    "You can create a first order array using np.array([ ... ]) or np.arange(1, 10)\n",
    "\n",
    "You can create a second order array using np.array([[1, 2, 3, 4],[5, 6, 7, 8]]) or np.arange(1, 9).reshape(2, 4) -MAKE SURE TO INCLUDE THE HARD BRACKETS + THE ROW BRACKETS!!\n",
    "\n",
    "Note - you CAN insert a column into a 2D array after inserting a row!\n",
    "\n"
   ]
  },
  {
   "cell_type": "code",
   "execution_count": 58,
   "metadata": {},
   "outputs": [
    {
     "name": "stdout",
     "output_type": "stream",
     "text": [
      "[1 2 3 4 5]\n",
      "\n",
      " [1 2 3 7 7 7 4 5]\n"
     ]
    }
   ],
   "source": [
    "x = np.array([1, 2, 3, 4, 5])\n",
    "print(x)\n",
    "\n",
    "#insert at the specified position\n",
    "y = np.insert(x, 3, [7, 7, 7])\n",
    "print('\\n', y)"
   ]
  },
  {
   "cell_type": "code",
   "execution_count": 62,
   "metadata": {},
   "outputs": [
    {
     "name": "stdout",
     "output_type": "stream",
     "text": [
      "[[1 2 3]\n",
      " [7 8 9]]\n",
      "\n",
      " [[ 1  2  3]\n",
      " [ 7  8  9]\n",
      " [10 11 12]]\n",
      "\n",
      " [[ 1  5  2  3]\n",
      " [ 7  5  8  9]\n",
      " [10  5 11 12]]\n"
     ]
    }
   ],
   "source": [
    "x = np.array([[1, 2, 3], [7, 8, 9]])\n",
    "print(x)\n",
    "\n",
    "# '2' is the position here\n",
    "x = np.insert(x, 2, [10, 11, 12], axis =0)\n",
    "print('\\n', x)\n",
    "\n",
    "x = np.insert(x, 1, 5, axis=1)\n",
    "print('\\n', x)"
   ]
  },
  {
   "cell_type": "markdown",
   "metadata": {},
   "source": [
    "## Stacking numpy arrays ##"
   ]
  },
  {
   "cell_type": "code",
   "execution_count": 67,
   "metadata": {},
   "outputs": [
    {
     "name": "stdout",
     "output_type": "stream",
     "text": [
      "\n",
      " [[1 2 3]\n",
      " [4 5 6]\n",
      " [7 8 9]]\n"
     ]
    }
   ],
   "source": [
    "x = np.array([1, 2, 3])\n",
    "\n",
    "y = np.array([[4, 5, 6], [7, 8, 9]])\n",
    "\n",
    "# stack 1 first order with a second order vertically using vstack\n",
    "z = np.vstack((x, y))\n",
    "print('\\n', z)"
   ]
  },
  {
   "cell_type": "code",
   "execution_count": 81,
   "metadata": {},
   "outputs": [
    {
     "name": "stdout",
     "output_type": "stream",
     "text": [
      "\n",
      " [1 2 3]\n",
      "\n",
      " [[ 4  5  6]\n",
      " [ 7  8  9]\n",
      " [10 11 12]]\n",
      "\n",
      " [[1]\n",
      " [2]\n",
      " [3]]\n",
      "\n",
      " [[ 4  5  6  1]\n",
      " [ 7  8  9  2]\n",
      " [10 11 12  3]]\n"
     ]
    }
   ],
   "source": [
    "x = np.array([1, 2, 3])\n",
    "print('\\n', x)\n",
    "\n",
    "y = np.array([[4, 5, 6], [7, 8, 9], [10, 11, 12]])\n",
    "print('\\n', y)\n",
    "\n",
    "# stack 1 first order with a second order vertically using vstack\n",
    "x = x.reshape(3, 1)\n",
    "print('\\n', x)\n",
    "\n",
    "z = np.hstack((y, x))\n",
    "print('\\n', z)"
   ]
  },
  {
   "cell_type": "markdown",
   "metadata": {},
   "source": [
    "## Slicing ##\n",
    "\n",
    "start is included, end is excluded\n",
    "\n",
    "ndarray[start:end]          # x[0:4] means indexes 0, 1, 2, 3\n",
    "\n",
    "ndarray[start:]\n",
    "\n",
    "ndarray[:end]\n",
    "\n",
    "Slicing only creates a view of the array. It does not make a new array\n",
    "\n",
    "### So, if you make changes in the view you also make changes in the original!!! ###\n",
    "\n",
    "Need to use the z = np.copy(ndarray)\n",
    "\n"
   ]
  },
  {
   "cell_type": "code",
   "execution_count": 88,
   "metadata": {},
   "outputs": [
    {
     "name": "stdout",
     "output_type": "stream",
     "text": [
      "\n",
      " [[ 1  2  3  4  5]\n",
      " [ 6  7  8  9 10]\n",
      " [11 12 13 14 15]\n",
      " [16 17 18 19 20]]\n",
      "\n",
      " [[ 8  9 10]\n",
      " [13 14 15]\n",
      " [18 19 20]]\n",
      "\n",
      " [[ 8  9 10]\n",
      " [13 14 15]\n",
      " [18 19 20]]\n",
      "\n",
      " [[ 3  4  5]\n",
      " [ 8  9 10]\n",
      " [13 14 15]]\n",
      "\n",
      " [[ 3  4  5]\n",
      " [ 8  9 10]\n",
      " [13 14 15]\n",
      " [18 19 20]]\n",
      "\n",
      " [[ 3]\n",
      " [ 8]\n",
      " [13]\n",
      " [18]]\n"
     ]
    }
   ],
   "source": [
    "x = np.arange(1, 21).reshape(4, 5)\n",
    "print('\\n', x)\n",
    "\n",
    "y = x[1:4, 2:5]\n",
    "print('\\n', y)\n",
    "\n",
    "z = x[1:, 2:]\n",
    "print('\\n', z)\n",
    "\n",
    "z = x[:3, 2:]\n",
    "print('\\n', z)\n",
    "\n",
    "# grab all the rows \n",
    "z = x[:, 2:]\n",
    "print('\\n', z)\n",
    "\n",
    "# grab one column - now makes it into a first order array\n",
    "z = x[:, 2:3]\n",
    "print('\\n', z)  \n"
   ]
  },
  {
   "cell_type": "code",
   "execution_count": 90,
   "metadata": {},
   "outputs": [
    {
     "name": "stdout",
     "output_type": "stream",
     "text": [
      "\n",
      " [[  3]\n",
      " [  8]\n",
      " [ 13]\n",
      " [555]]\n",
      "\n",
      " [[  1   2   3   4   5]\n",
      " [  6   7   8   9  10]\n",
      " [ 11  12  13  14  15]\n",
      " [ 16  17 555  19  20]]\n"
     ]
    }
   ],
   "source": [
    "# change a value in the view, which changes the original\n",
    "z[3, 0] = 555\n",
    "print('\\n', z)  \n",
    "\n",
    "print('\\n', x)\n"
   ]
  },
  {
   "cell_type": "code",
   "execution_count": 96,
   "metadata": {},
   "outputs": [
    {
     "name": "stdout",
     "output_type": "stream",
     "text": [
      "\n",
      " [[ 1  2  3  4  5]\n",
      " [ 6  7  8  9 10]\n",
      " [11 12 13 14 15]\n",
      " [16 17 18 19 20]]\n",
      "\n",
      " [[ 8  9 10]\n",
      " [13 14 15]\n",
      " [18 19 20]]\n",
      "\n",
      " [[ 3  4  5]\n",
      " [ 8  9 10]\n",
      " [13 14 15]\n",
      " [18 19 20]]\n",
      "\n",
      " [[ 1  2  3  4  5]\n",
      " [ 6  7  8  9 10]\n",
      " [11 12 13 14 15]\n",
      " [16 17 18 19 20]]\n"
     ]
    }
   ],
   "source": [
    "# use copy to avoid this\n",
    "x = np.arange(1, 21).reshape(4, 5)\n",
    "print('\\n', x)  \n",
    "\n",
    "z = np.copy(x[1:, 2:])\n",
    "print('\\n', z)  \n",
    "\n",
    "# alternative\n",
    "z = x[0:, 2:].copy()\n",
    "print('\\n', z)  \n",
    "\n",
    "# show that x hasn't changed\n",
    "print('\\n', x)  "
   ]
  },
  {
   "cell_type": "markdown",
   "metadata": {},
   "source": [
    "## Use numpy arrays to select indices ##\n",
    "\n",
    "the argument is the specific rows or columns to select"
   ]
  },
  {
   "cell_type": "code",
   "execution_count": 99,
   "metadata": {},
   "outputs": [
    {
     "name": "stdout",
     "output_type": "stream",
     "text": [
      "\n",
      " [[ 6  7  8  9 10]\n",
      " [11 12 13 14 15]\n",
      " [16 17 18 19 20]]\n"
     ]
    }
   ],
   "source": [
    "rows = np.array([1, 2, 3])\n",
    "\n",
    "z = x[rows, :].copy()\n",
    "print('\\n', z)\n"
   ]
  },
  {
   "cell_type": "code",
   "execution_count": 104,
   "metadata": {},
   "outputs": [
    {
     "name": "stdout",
     "output_type": "stream",
     "text": [
      "\n",
      " [[ 1  2  3  4  5]\n",
      " [ 6  7  8  9 10]\n",
      " [11 12 13 14 15]\n",
      " [16 17 18 19 20]]\n",
      "\n",
      " [ 1  7 13 19]\n",
      "\n",
      " [ 2  8 14 20]\n"
     ]
    }
   ],
   "source": [
    "print('\\n', x)\n",
    "\n",
    "# extract the diagonal\n",
    "z = np.diag(x)\n",
    "print('\\n', z)\n",
    "\n",
    "z = np.diag(x, k=1)\n",
    "print('\\n', z)"
   ]
  },
  {
   "cell_type": "markdown",
   "metadata": {},
   "source": [
    "## Find all the unique values ##"
   ]
  },
  {
   "cell_type": "code",
   "execution_count": 106,
   "metadata": {},
   "outputs": [
    {
     "name": "stdout",
     "output_type": "stream",
     "text": [
      "\n",
      " [1 2 3 4 5 6]\n"
     ]
    }
   ],
   "source": [
    "x = np.array([[1, 2, 3], [2, 3, 3], [4, 5, 6]])\n",
    "y = np.unique(x)\n",
    "print('\\n', y)"
   ]
  },
  {
   "cell_type": "markdown",
   "metadata": {},
   "source": []
  }
 ],
 "metadata": {
  "kernelspec": {
   "display_name": "base",
   "language": "python",
   "name": "python3"
  },
  "language_info": {
   "codemirror_mode": {
    "name": "ipython",
    "version": 3
   },
   "file_extension": ".py",
   "mimetype": "text/x-python",
   "name": "python",
   "nbconvert_exporter": "python",
   "pygments_lexer": "ipython3",
   "version": "3.12.7"
  }
 },
 "nbformat": 4,
 "nbformat_minor": 2
}
