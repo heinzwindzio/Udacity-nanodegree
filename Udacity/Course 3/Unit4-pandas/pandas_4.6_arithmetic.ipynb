{
 "cells": [
  {
   "cell_type": "code",
   "execution_count": 33,
   "metadata": {},
   "outputs": [],
   "source": [
    "import pandas as pd\n",
    "import numpy as np\n",
    "\n",
    "def pp(z):\n",
    "    print('\\n', z)  \n",
    "\n",
    "# x = np.array([1, 2, 3, 4])\n",
    "\n",
    "# first is the data, then the index \n",
    "fruits = pd.Series([10, 8, 3], ['apples', 'oranges', 'bananas'])\n",
    "\n",
    "\n",
    "\n",
    "\n",
    "\n"
   ]
  },
  {
   "cell_type": "markdown",
   "metadata": {},
   "source": [
    "Perform arithmetic on the panda Series"
   ]
  },
  {
   "cell_type": "code",
   "execution_count": 22,
   "metadata": {},
   "outputs": [
    {
     "name": "stdout",
     "output_type": "stream",
     "text": [
      "\n",
      " apples     11\n",
      "oranges     9\n",
      "banasa      4\n",
      "dtype: int64\n"
     ]
    }
   ],
   "source": [
    "x = fruits + 1\n",
    "pp(x)"
   ]
  },
  {
   "cell_type": "code",
   "execution_count": 23,
   "metadata": {},
   "outputs": [
    {
     "name": "stdout",
     "output_type": "stream",
     "text": [
      "\n",
      " apples     20\n",
      "oranges    16\n",
      "banasa      6\n",
      "dtype: int64\n"
     ]
    }
   ],
   "source": [
    "x = fruits * 2\n",
    "pp(x)"
   ]
  },
  {
   "cell_type": "markdown",
   "metadata": {},
   "source": [
    "Use numpy to perform arithmetic on the Series"
   ]
  },
  {
   "cell_type": "code",
   "execution_count": 25,
   "metadata": {},
   "outputs": [
    {
     "name": "stdout",
     "output_type": "stream",
     "text": [
      "\n",
      " apples     10\n",
      "oranges     8\n",
      "banasa      3\n",
      "dtype: int64\n",
      "\n",
      " apples     100\n",
      "oranges     64\n",
      "banasa       9\n",
      "dtype: int64\n"
     ]
    }
   ],
   "source": [
    "pp(fruits)\n",
    "x = np.power(fruits, 2)\n",
    "pp(x)"
   ]
  },
  {
   "cell_type": "markdown",
   "metadata": {},
   "source": [
    "Perform math on specific elements"
   ]
  },
  {
   "cell_type": "code",
   "execution_count": 31,
   "metadata": {},
   "outputs": [
    {
     "name": "stdout",
     "output_type": "stream",
     "text": [
      "\n",
      " 110\n"
     ]
    }
   ],
   "source": [
    "pp(fruits['apples'] + 100)"
   ]
  },
  {
   "cell_type": "markdown",
   "metadata": {},
   "source": [
    "Perform math on whole Series"
   ]
  },
  {
   "cell_type": "code",
   "execution_count": 38,
   "metadata": {},
   "outputs": [
    {
     "name": "stdout",
     "output_type": "stream",
     "text": [
      "\n",
      " eggs          60\n",
      "apples        12\n",
      "milk      YesYes\n",
      "bread       NoNo\n",
      "dtype: object\n",
      "\n",
      " eggs       30\n",
      "apples      6\n",
      "milk      Yes\n",
      "bread      No\n",
      "dtype: object\n"
     ]
    }
   ],
   "source": [
    "groceries = pd.Series([30, 6, 'Yes', 'No'], ['eggs', 'apples', 'milk', 'bread'])\n",
    "\n",
    "# CAN'T DO ADDITION OR DIVISION OR OTHER MATH ON STRINGS\n",
    "pp(groceries * 2)\n",
    "\n",
    "# doesn't change the OG\n",
    "pp(groceries)"
   ]
  },
  {
   "cell_type": "code",
   "execution_count": null,
   "metadata": {},
   "outputs": [],
   "source": []
  }
 ],
 "metadata": {
  "kernelspec": {
   "display_name": "base",
   "language": "python",
   "name": "python3"
  },
  "language_info": {
   "name": "python",
   "version": "3.12.7"
  }
 },
 "nbformat": 4,
 "nbformat_minor": 2
}
